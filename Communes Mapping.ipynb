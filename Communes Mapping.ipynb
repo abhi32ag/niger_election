{
 "cells": [
  {
   "cell_type": "code",
   "execution_count": 1,
   "metadata": {
    "collapsed": false
   },
   "outputs": [],
   "source": [
    "import json\n",
    "import os as os\n",
    "import pandas as pd\n",
    "\n",
    "from collections import OrderedDict\n",
    "from bokeh.plotting import figure, show, output_notebook, ColumnDataSource, gridplot , output_file\n",
    "from bokeh.models import HoverTool \n",
    "from bokeh.io import vform\n",
    "from bokeh.palettes import *\n",
    "\n",
    "import numpy as np\n",
    "\n",
    "os.chdir('../../Google Drive/elections_niger')"
   ]
  },
  {
   "cell_type": "code",
   "execution_count": 2,
   "metadata": {
    "collapsed": false
   },
   "outputs": [],
   "source": [
    "## Données carto\n",
    "with open('communes_gps.json') as json_data:\n",
    "    carto_commune = json.load(json_data)\n",
    "    json_data.close()"
   ]
  },
  {
   "cell_type": "code",
   "execution_count": 3,
   "metadata": {
    "collapsed": true
   },
   "outputs": [],
   "source": [
    "communes_ceni = pd.read_csv('data/Niger_Communes.csv')\n",
    "departements_ceni = pd.read_csv('data/Niger_Departements.csv' , encoding = \"ISO-8859-1\")\n",
    "regions_ceni = pd.read_csv('data/Niger_Regions.csv')"
   ]
  },
  {
   "cell_type": "code",
   "execution_count": 4,
   "metadata": {
    "collapsed": false
   },
   "outputs": [],
   "source": [
    "full_ceni = pd.merge(departements_ceni , communes_ceni , on = 'ID_DEPART' , how = 'right')\n",
    "full_ceni = pd.merge(regions_ceni , full_ceni , on = 'ID_REGION' , how = 'right')\n",
    "full_ceni = full_ceni.drop(['Unnamed: 0','Unnamed: 0_x','Unnamed: 0_y','N_COMMUNE','N_DEPART'] , axis = 1)"
   ]
  },
  {
   "cell_type": "code",
   "execution_count": 5,
   "metadata": {
    "collapsed": true
   },
   "outputs": [],
   "source": [
    "correction_dictionnary = {'DIFFA': {'KABLEWA': 'KABALEWA',\n",
    "                                    \"N'GOURTI\": 'NGOURTI',\n",
    "                                    \"N'GUELBELY\": 'NGUEL BELY',\n",
    "                                    \"N'GUIGMI\": 'NGUIGMI'},\n",
    "                          'DOSSO': {\"BIRNI N'GAOURE\": 'BIRNI NGAOURE',\n",
    "                                    'DAN-KASSARI': 'DAN KASSARI',\n",
    "                                    'DOGONKIRIA': 'DOGON KIRYA',\n",
    "                                    'FALMEY/FALMEY HAOUSSA': 'FALMEY',\n",
    "                                    'FAREY': 'FARREY',\n",
    "                                    'GOROUBANKASSAM': 'GOROUN BAKASSAM',\n",
    "                                    'GUILLADJE': 'GUILADJE',\n",
    "                                    'KARGUIBANGOU': 'KARGUI BANGOU',\n",
    "                                    \"N'GONGA\": 'NGONGA',\n",
    "                                    'TIBIRI (DOUTCHI)': 'TIBIRI',\n",
    "                                    'TOMBOKOIREY I': 'TOMBOKOAREY 1',\n",
    "                                    'TOMBOKOIREY II': 'TOMBOKOAREY 2'},\n",
    "                          'MARADI': {'ATTANTANE': 'ATTATANE',\n",
    "                                     'BIRNI LALLE': 'BIRNI NLALLE',\n",
    "                                     'DAN-GOULBI': 'DAN GOULGI',\n",
    "                                     'DAN-ISSA': 'DAN ISSA',\n",
    "                                     'DJIRATAWA': 'DJIRATAOUA',\n",
    "                                     'EL ALLASSANE MAIREYREY': 'ALHASSANE  MAIREREY',\n",
    "                                     'GANGARA (AGUIE)': 'GANGARA',\n",
    "                                     'GUIDAN AMOUMOUNE': 'GUIDAN AMOUMANE',\n",
    "                                     'KANAN-BAKACHE': 'KANAN BAKACHE',\n",
    "                                     'MARADI ARRONDISSEMENT 1': 'MARADI I,II,III',\n",
    "                                     'MARADI ARRONDISSEMENT 2': 'MARADI I,II,III',\n",
    "                                     'MARADI ARRONDISSEMENT 3': 'MARADI I,II,III',\n",
    "                                     'SARKIN HAOUSSA': 'SERKIN HAOUSSA',\n",
    "                                     'SARKIN YAMMA': 'SARKIN YAMA',\n",
    "                                     'TAGRISS': 'TAGRIS',\n",
    "                                     'TIBIRI (MARADI)': 'TIBIRI'},\n",
    "                          'NIAMEY': {'ARRONDISSEMENT 1': 'NIAMEY I',\n",
    "                                     'ARRONDISSEMENT 2': 'NIAMEY II',\n",
    "                                     'ARRONDISSEMENT 3': 'NIAMEY III',\n",
    "                                     'ARRONDISSEMENT 4': 'NIAMEY IV',\n",
    "                                     'ARRONDISSEMENT 5': 'NIAMEY V'},\n",
    "                          'TAHOUA': {'ARRONDISSEMENT 1': 'TAHOUA I,II',\n",
    "                                     'ARRONDISSEMENT 2': 'TAHOUA I,II',\n",
    "                                     'BABANKATAMI': 'BABAN KATAMI',\n",
    "                                     \"BIRNI N'KONNI\": 'BIRNI NKONNI',\n",
    "                                     'GALMA KOUDAWATCHE': 'GALMA',\n",
    "                                     'TSERNAOUA': 'TSERNAWA'},\n",
    "                          'TILLABERI': {'BANIBANGOU': 'BANI BANGOU',\n",
    "                                        'BANKILARE': 'BANKILLARE',\n",
    "                                        'DIAGOUROU': 'DIAGOROU',\n",
    "                                        'DINGAZI': 'DINGAZI BANDA',\n",
    "                                        'KOURFEYE CENTRE': 'KOURFEY CENTRE',\n",
    "                                        'KOURTEYE': 'KOURTEY',\n",
    "                                        'MAKALONDI': 'PARC W', # By elimination\n",
    "                                        \"N'DOUNGA\": 'NDOUNGA',\n",
    "                                        'OURO GUELADJO': 'OURO GUELADIO',\n",
    "                                        'SAKOIRA': 'SAKOUARA',\n",
    "                                        'TONDIKIWINDI': 'TONDIKWINDI'},\n",
    "                          'ZINDER': {'ARRONDISSEMENT 1': 'ZINDER I,II,III,IV,V',\n",
    "                                     'ARRONDISSEMENT 2': 'ZINDER I,II,III,IV,V',\n",
    "                                     'ARRONDISSEMENT 3': 'ZINDER I,II,III,IV,V',\n",
    "                                     'ARRONDISSEMENT 4': 'ZINDER I,II,III,IV,V',\n",
    "                                     'ARRONDISSEMENT 5': 'ZINDER I,II,III,IV,V',\n",
    "                                     'DAMAGARAM TAKAYA': 'DAMAGARAM-T',\n",
    "                                     'DANTCHIAO': 'DAN TCHIAO',\n",
    "                                     'DOGO-DOGO': 'DOGO DOGO',\n",
    "                                     'GANGARA (TANOUT)': 'GANGARA',\n",
    "                                     'MATAMEY': 'MATAMEYE'}}"
   ]
  },
  {
   "cell_type": "code",
   "execution_count": 6,
   "metadata": {
    "collapsed": false
   },
   "outputs": [],
   "source": [
    "full_ceni['commune_to_match'] = full_ceni['NOM_COMMUNE']\n",
    "\n",
    "def correct_name_commune(data , dictionnary):\n",
    "    for com in dictionnary.keys() :\n",
    "        data[data == com] = dictionnary[com]\n",
    "    return data\n",
    "\n",
    "for reg in correction_dictionnary.keys() :\n",
    "    full_ceni.loc[full_ceni.NOM_REGION == reg , \n",
    "                  'commune_to_match'] = correct_name_commune(full_ceni.commune_to_match[full_ceni.NOM_REGION == reg] , \n",
    "                                                                  correction_dictionnary[reg])"
   ]
  },
  {
   "cell_type": "code",
   "execution_count": 7,
   "metadata": {
    "collapsed": false
   },
   "outputs": [],
   "source": [
    "regions_names = []\n",
    "regions_ID = []\n",
    "xs = []\n",
    "ys = []\n",
    "values = []\n",
    "cols = []\n",
    "\n",
    "def match_communes(ceni_to_match , commune_data):\n",
    "    name = pd.Series(commune_data['nom']).str.replace('É','E')\n",
    "    if name.isin(ceni_to_match.commune_to_match)[0] == True:\n",
    "        name = name[0]\n",
    "        commune_data['ceni_ID'] = str(ceni_to_match.ID_COMMUNE[full_ceni.commune_to_match ==\n",
    "                                                           name][ceni_to_match.ID_COMMUNE[full_ceni.commune_to_match == \n",
    "                                                                                      name].index[0]])\n",
    "    else :\n",
    "        commune_data['ceni_ID'] = ''\n",
    "    return(commune_data)"
   ]
  },
  {
   "cell_type": "code",
   "execution_count": 8,
   "metadata": {
    "collapsed": false
   },
   "outputs": [],
   "source": [
    "df = pd.DataFrame(carto_commune ).transpose().reset_index()\n",
    "for reg in df.region.unique() :\n",
    "    ids = df[df.region == reg ]['index']\n",
    "    ceni_to_match = full_ceni[full_ceni.NOM_REGION == reg]\n",
    "    for ID in ids.index:\n",
    "        carto_commune[str(ids[ID])] = match_communes(ceni_to_match , carto_commune[str(ids[ID])])"
   ]
  },
  {
   "cell_type": "code",
   "execution_count": 9,
   "metadata": {
    "collapsed": false
   },
   "outputs": [],
   "source": [
    "non_matched_gps = {}\n",
    "for i in carto_commune.keys():\n",
    "    if carto_commune[i]['ceni_ID'] == '' :\n",
    "        non_matched_gps[i] = carto_commune[i]\n",
    "non_matched_gps = pd.DataFrame(non_matched_gps).transpose()"
   ]
  },
  {
   "cell_type": "code",
   "execution_count": 10,
   "metadata": {
    "collapsed": false
   },
   "outputs": [],
   "source": [
    "df2 = pd.DataFrame(carto_commune ).transpose().reset_index()\n",
    "non_matched_ceni = full_ceni[~(full_ceni.ID_COMMUNE.astype(str).isin(df2.ceni_ID))]\n",
    "non_matched_ceni = non_matched_ceni[non_matched_ceni.ID_DEPART < 900]"
   ]
  },
  {
   "cell_type": "code",
   "execution_count": 11,
   "metadata": {
    "collapsed": false
   },
   "outputs": [
    {
     "data": {
      "text/html": [
       "<div>\n",
       "<table border=\"1\" class=\"dataframe\">\n",
       "  <thead>\n",
       "    <tr style=\"text-align: right;\">\n",
       "      <th></th>\n",
       "      <th>ID_REGION</th>\n",
       "      <th>NOM_REGION</th>\n",
       "      <th>ID_DEPART</th>\n",
       "      <th>NOM_DEPART</th>\n",
       "      <th>ID_COMMUNE</th>\n",
       "      <th>NOM_COMMUNE</th>\n",
       "      <th>commune_to_match</th>\n",
       "    </tr>\n",
       "  </thead>\n",
       "  <tbody>\n",
       "    <tr>\n",
       "      <th>115</th>\n",
       "      <td>4</td>\n",
       "      <td>MARADI</td>\n",
       "      <td>490</td>\n",
       "      <td>MARADI</td>\n",
       "      <td>49002</td>\n",
       "      <td>MARADI ARRONDISSEMENT 2</td>\n",
       "      <td>MARADI I,II,III</td>\n",
       "    </tr>\n",
       "    <tr>\n",
       "      <th>116</th>\n",
       "      <td>4</td>\n",
       "      <td>MARADI</td>\n",
       "      <td>490</td>\n",
       "      <td>MARADI</td>\n",
       "      <td>49003</td>\n",
       "      <td>MARADI ARRONDISSEMENT 3</td>\n",
       "      <td>MARADI I,II,III</td>\n",
       "    </tr>\n",
       "    <tr>\n",
       "      <th>160</th>\n",
       "      <td>5</td>\n",
       "      <td>TAHOUA</td>\n",
       "      <td>590</td>\n",
       "      <td>TAHOUA</td>\n",
       "      <td>59002</td>\n",
       "      <td>ARRONDISSEMENT 2</td>\n",
       "      <td>TAHOUA I,II</td>\n",
       "    </tr>\n",
       "    <tr>\n",
       "      <th>257</th>\n",
       "      <td>7</td>\n",
       "      <td>ZINDER</td>\n",
       "      <td>790</td>\n",
       "      <td>ZINDER</td>\n",
       "      <td>79002</td>\n",
       "      <td>ARRONDISSEMENT 2</td>\n",
       "      <td>ZINDER I,II,III,IV,V</td>\n",
       "    </tr>\n",
       "    <tr>\n",
       "      <th>258</th>\n",
       "      <td>7</td>\n",
       "      <td>ZINDER</td>\n",
       "      <td>790</td>\n",
       "      <td>ZINDER</td>\n",
       "      <td>79003</td>\n",
       "      <td>ARRONDISSEMENT 3</td>\n",
       "      <td>ZINDER I,II,III,IV,V</td>\n",
       "    </tr>\n",
       "    <tr>\n",
       "      <th>259</th>\n",
       "      <td>7</td>\n",
       "      <td>ZINDER</td>\n",
       "      <td>790</td>\n",
       "      <td>ZINDER</td>\n",
       "      <td>79004</td>\n",
       "      <td>ARRONDISSEMENT 4</td>\n",
       "      <td>ZINDER I,II,III,IV,V</td>\n",
       "    </tr>\n",
       "    <tr>\n",
       "      <th>260</th>\n",
       "      <td>7</td>\n",
       "      <td>ZINDER</td>\n",
       "      <td>790</td>\n",
       "      <td>ZINDER</td>\n",
       "      <td>79005</td>\n",
       "      <td>ARRONDISSEMENT 5</td>\n",
       "      <td>ZINDER I,II,III,IV,V</td>\n",
       "    </tr>\n",
       "  </tbody>\n",
       "</table>\n",
       "</div>"
      ],
      "text/plain": [
       "     ID_REGION NOM_REGION  ID_DEPART NOM_DEPART  ID_COMMUNE  \\\n",
       "115          4     MARADI        490     MARADI       49002   \n",
       "116          4     MARADI        490     MARADI       49003   \n",
       "160          5     TAHOUA        590     TAHOUA       59002   \n",
       "257          7     ZINDER        790     ZINDER       79002   \n",
       "258          7     ZINDER        790     ZINDER       79003   \n",
       "259          7     ZINDER        790     ZINDER       79004   \n",
       "260          7     ZINDER        790     ZINDER       79005   \n",
       "\n",
       "                 NOM_COMMUNE      commune_to_match  \n",
       "115  MARADI ARRONDISSEMENT 2       MARADI I,II,III  \n",
       "116  MARADI ARRONDISSEMENT 3       MARADI I,II,III  \n",
       "160         ARRONDISSEMENT 2           TAHOUA I,II  \n",
       "257         ARRONDISSEMENT 2  ZINDER I,II,III,IV,V  \n",
       "258         ARRONDISSEMENT 3  ZINDER I,II,III,IV,V  \n",
       "259         ARRONDISSEMENT 4  ZINDER I,II,III,IV,V  \n",
       "260         ARRONDISSEMENT 5  ZINDER I,II,III,IV,V  "
      ]
     },
     "execution_count": 11,
     "metadata": {},
     "output_type": "execute_result"
    }
   ],
   "source": [
    "non_matched_ceni"
   ]
  },
  {
   "cell_type": "code",
   "execution_count": 12,
   "metadata": {
    "collapsed": true
   },
   "outputs": [],
   "source": [
    "store_electeurs = pd.HDFStore('data/full_data.h5')\n",
    "data_electeurs = store_electeurs['complete_data']\n",
    "store_electeurs.close()"
   ]
  },
  {
   "cell_type": "code",
   "execution_count": 13,
   "metadata": {
    "collapsed": false
   },
   "outputs": [
    {
     "name": "stderr",
     "output_type": "stream",
     "text": [
      "C:\\Users\\grlurton\\AppData\\Local\\Continuum\\Anaconda3\\lib\\site-packages\\ipykernel\\__main__.py:1: SettingWithCopyWarning: \n",
      "A value is trying to be set on a copy of a slice from a DataFrame\n",
      "\n",
      "See the caveats in the documentation: http://pandas.pydata.org/pandas-docs/stable/indexing.html#indexing-view-versus-copy\n",
      "  if __name__ == '__main__':\n",
      "C:\\Users\\grlurton\\AppData\\Local\\Continuum\\Anaconda3\\lib\\site-packages\\ipykernel\\__main__.py:2: SettingWithCopyWarning: \n",
      "A value is trying to be set on a copy of a slice from a DataFrame\n",
      "\n",
      "See the caveats in the documentation: http://pandas.pydata.org/pandas-docs/stable/indexing.html#indexing-view-versus-copy\n",
      "  from ipykernel import kernelapp as app\n",
      "C:\\Users\\grlurton\\AppData\\Local\\Continuum\\Anaconda3\\lib\\site-packages\\ipykernel\\__main__.py:4: SettingWithCopyWarning: \n",
      "A value is trying to be set on a copy of a slice from a DataFrame\n",
      "\n",
      "See the caveats in the documentation: http://pandas.pydata.org/pandas-docs/stable/indexing.html#indexing-view-versus-copy\n",
      "C:\\Users\\grlurton\\AppData\\Local\\Continuum\\Anaconda3\\lib\\site-packages\\ipykernel\\__main__.py:5: SettingWithCopyWarning: \n",
      "A value is trying to be set on a copy of a slice from a DataFrame\n",
      "\n",
      "See the caveats in the documentation: http://pandas.pydata.org/pandas-docs/stable/indexing.html#indexing-view-versus-copy\n",
      "C:\\Users\\grlurton\\AppData\\Local\\Continuum\\Anaconda3\\lib\\site-packages\\ipykernel\\__main__.py:7: SettingWithCopyWarning: \n",
      "A value is trying to be set on a copy of a slice from a DataFrame\n",
      "\n",
      "See the caveats in the documentation: http://pandas.pydata.org/pandas-docs/stable/indexing.html#indexing-view-versus-copy\n",
      "C:\\Users\\grlurton\\AppData\\Local\\Continuum\\Anaconda3\\lib\\site-packages\\ipykernel\\__main__.py:8: SettingWithCopyWarning: \n",
      "A value is trying to be set on a copy of a slice from a DataFrame\n",
      "\n",
      "See the caveats in the documentation: http://pandas.pydata.org/pandas-docs/stable/indexing.html#indexing-view-versus-copy\n"
     ]
    }
   ],
   "source": [
    "data_electeurs.NOM_COMMUNE[data_electeurs.ID_COMMUNE.isin([49002,49003]) ] ='MARADI ARRONDISSEMENT 1'\n",
    "data_electeurs.ID_COMMUNE[data_electeurs.ID_COMMUNE.isin([49002,49003]) ] = 49001\n",
    "\n",
    "data_electeurs.NOM_COMMUNE[data_electeurs.ID_COMMUNE.isin([59002]) ] ='ARRONDISSEMENT 1'\n",
    "data_electeurs.ID_COMMUNE[data_electeurs.ID_COMMUNE.isin([59002]) ] = 59001\n",
    "\n",
    "data_electeurs.NOM_COMMUNE[data_electeurs.ID_COMMUNE.isin([79002,79003,79004,79005]) ] ='ARRONDISSEMENT 1'\n",
    "data_electeurs.ID_COMMUNE[data_electeurs.ID_COMMUNE.isin([79002,79003,79004,79005]) ] = 79001"
   ]
  },
  {
   "cell_type": "code",
   "execution_count": 14,
   "metadata": {
    "collapsed": false
   },
   "outputs": [],
   "source": [
    "elec_commune = data_electeurs.groupby('ID_COMMUNE').apply(len)"
   ]
  },
  {
   "cell_type": "code",
   "execution_count": 15,
   "metadata": {
    "collapsed": true
   },
   "outputs": [],
   "source": [
    "def create_binning(data , variable , n_colors , index) :\n",
    "    data = data.reset_index()\n",
    "    bins = np.linspace(data[variable].min(), data[variable].max(), n_colors)\n",
    "    data['bin'] = np.digitize(data[variable], bins) - 1\n",
    "    out = data.set_index(index)\n",
    "    return out"
   ]
  },
  {
   "cell_type": "code",
   "execution_count": 16,
   "metadata": {
    "collapsed": false
   },
   "outputs": [],
   "source": [
    "elec_commune = pd.DataFrame(elec_commune).reset_index()"
   ]
  },
  {
   "cell_type": "code",
   "execution_count": 17,
   "metadata": {
    "collapsed": false
   },
   "outputs": [],
   "source": [
    "elec_commune.columns = ['ID_COMMUNE' , 'n_electeurs']"
   ]
  },
  {
   "cell_type": "code",
   "execution_count": 18,
   "metadata": {
    "collapsed": false
   },
   "outputs": [],
   "source": [
    "if YlOrRd9[0] == '#800026':\n",
    "    YlOrRd9.reverse()\n",
    "col1 = YlOrRd9\n",
    "n_colors = len(col1)\n",
    "bins = np.linspace(elec_commune['n_electeurs'].min(), elec_commune['n_electeurs'].max(), n_colors)\n",
    "elec_commune['bin'] = np.digitize(elec_commune['n_electeurs'], bins) - 1\n",
    "elec_commune = elec_commune.set_index('ID_COMMUNE')"
   ]
  },
  {
   "cell_type": "code",
   "execution_count": 46,
   "metadata": {
    "collapsed": false
   },
   "outputs": [
    {
     "data": {
      "text/html": [
       "<div>\n",
       "<table border=\"1\" class=\"dataframe\">\n",
       "  <thead>\n",
       "    <tr style=\"text-align: right;\">\n",
       "      <th></th>\n",
       "      <th>n_electeurs</th>\n",
       "      <th>bin</th>\n",
       "    </tr>\n",
       "    <tr>\n",
       "      <th>ID_COMMUNE</th>\n",
       "      <th></th>\n",
       "      <th></th>\n",
       "    </tr>\n",
       "  </thead>\n",
       "  <tbody>\n",
       "    <tr>\n",
       "      <th>10101</th>\n",
       "      <td>33.138946</td>\n",
       "      <td>4</td>\n",
       "    </tr>\n",
       "    <tr>\n",
       "      <th>10201</th>\n",
       "      <td>34.138261</td>\n",
       "      <td>5</td>\n",
       "    </tr>\n",
       "    <tr>\n",
       "      <th>10202</th>\n",
       "      <td>33.138946</td>\n",
       "      <td>4</td>\n",
       "    </tr>\n",
       "    <tr>\n",
       "      <th>10203</th>\n",
       "      <td>32.139630</td>\n",
       "      <td>4</td>\n",
       "    </tr>\n",
       "    <tr>\n",
       "      <th>10301</th>\n",
       "      <td>36.139630</td>\n",
       "      <td>7</td>\n",
       "    </tr>\n",
       "  </tbody>\n",
       "</table>\n",
       "</div>"
      ],
      "text/plain": [
       "            n_electeurs  bin\n",
       "ID_COMMUNE                  \n",
       "10101         33.138946    4\n",
       "10201         34.138261    5\n",
       "10202         33.138946    4\n",
       "10203         32.139630    4\n",
       "10301         36.139630    7"
      ]
     },
     "execution_count": 46,
     "metadata": {},
     "output_type": "execute_result"
    }
   ],
   "source": [
    "elec_commune.head()"
   ]
  },
  {
   "cell_type": "code",
   "execution_count": 20,
   "metadata": {
    "collapsed": false
   },
   "outputs": [],
   "source": [
    "for i in carto_commune.keys() :\n",
    "    reg_sel = carto_commune[i]\n",
    "    ceni_ID = reg_sel['ceni_ID']\n",
    "    carto_commune[i]['n_electeurs'] = elec_commune['n_electeurs'][int(ceni_ID)]\n",
    "    carto_commune[i]['color'] = col1[elec_commune['bin'][int(ceni_ID)]]"
   ]
  },
  {
   "cell_type": "code",
   "execution_count": 21,
   "metadata": {
    "collapsed": false
   },
   "outputs": [],
   "source": [
    "regions_names = []\n",
    "regions_ID = []\n",
    "xs = []\n",
    "ys = []\n",
    "values = []\n",
    "cols = []\n",
    "n_elect = []\n",
    "colors = []\n",
    "\n",
    "for i in carto_commune.keys() :\n",
    "    reg_sel = carto_commune[i]\n",
    "    name = reg_sel['nom']\n",
    "    ID = reg_sel['ID']\n",
    "    x = reg_sel['coordinates']['x']\n",
    "    y = reg_sel['coordinates']['y']\n",
    "    n_electeurs = reg_sel['n_electeurs']\n",
    "    col = reg_sel['color']\n",
    "    \n",
    "    regions_names.append(name)\n",
    "    regions_ID.append(ID)\n",
    "    xs.append(x)\n",
    "    ys.append(y)\n",
    "    n_elect.append(n_electeurs)\n",
    "    colors.append(col)\n",
    "    \n",
    "map_source = ColumnDataSource(\n",
    "    data = dict(\n",
    "        x=xs,\n",
    "        y=ys,\n",
    "        ID=regions_ID,\n",
    "        name=regions_names ,\n",
    "        n_electeurs = n_elect ,\n",
    "        color = colors))"
   ]
  },
  {
   "cell_type": "code",
   "execution_count": 22,
   "metadata": {
    "collapsed": false
   },
   "outputs": [],
   "source": [
    "output_file('Commune_voters.html')\n",
    "\n",
    "p = figure(#plot_width=700, plot_height=700,\n",
    "           title=\"Registered voters by Commune\" , title_text_font_size='12pt' ,\n",
    "           tools='wheel_zoom,hover')\n",
    "p.patches('x', 'y', \n",
    "          fill_color = \"color\" ,\n",
    "          line_color=\"grey\", line_width=0.5,\n",
    "          source=map_source)\n",
    "\n",
    "hover = p.select(dict(type=HoverTool))\n",
    "hover.point_policy = \"follow_mouse\"\n",
    "hover.tooltips = OrderedDict([\n",
    "        (\"Nom\", \"@name\") ,\n",
    "        (\"N Registered Voters\" , \"@n_electeurs\")])\n",
    "\n",
    "show(p)"
   ]
  },
  {
   "cell_type": "code",
   "execution_count": 42,
   "metadata": {
    "collapsed": false
   },
   "outputs": [],
   "source": [
    "def median_age(data):\n",
    "    med = data.age.median()\n",
    "    return med\n",
    "\n",
    "age_commune = data_electeurs.groupby('ID_COMMUNE').apply(median_age)"
   ]
  },
  {
   "cell_type": "code",
   "execution_count": 56,
   "metadata": {
    "collapsed": true
   },
   "outputs": [],
   "source": [
    "elec_commune = pd.DataFrame(age_commune).reset_index()\n",
    "elec_commune.columns = ['ID_COMMUNE' , 'n_electeurs']"
   ]
  },
  {
   "cell_type": "code",
   "execution_count": 57,
   "metadata": {
    "collapsed": false
   },
   "outputs": [],
   "source": [
    "YlOrRd7.reverse()\n",
    "col1 = YlOrRd7\n",
    "n_colors = len(col1)\n",
    "bins = np.linspace(elec_commune['n_electeurs'].min(), elec_commune['n_electeurs'].max(), n_colors)\n",
    "elec_commune['bin'] = np.digitize(elec_commune['n_electeurs'], bins) - 1\n",
    "elec_commune = elec_commune.set_index('ID_COMMUNE')"
   ]
  },
  {
   "cell_type": "code",
   "execution_count": 58,
   "metadata": {
    "collapsed": true
   },
   "outputs": [],
   "source": [
    "for i in carto_commune.keys() :\n",
    "    reg_sel = carto_commune[i]\n",
    "    ceni_ID = reg_sel['ceni_ID']\n",
    "    carto_commune[i]['n_electeurs'] = elec_commune['n_electeurs'][int(ceni_ID)]\n",
    "    carto_commune[i]['color'] = col1[elec_commune['bin'][int(ceni_ID)]]"
   ]
  },
  {
   "cell_type": "code",
   "execution_count": 59,
   "metadata": {
    "collapsed": true
   },
   "outputs": [],
   "source": [
    "regions_names = []\n",
    "regions_ID = []\n",
    "xs = []\n",
    "ys = []\n",
    "values = []\n",
    "cols = []\n",
    "n_elect = []\n",
    "colors = []\n",
    "\n",
    "for i in carto_commune.keys() :\n",
    "    reg_sel = carto_commune[i]\n",
    "    name = reg_sel['nom']\n",
    "    ID = reg_sel['ID']\n",
    "    x = reg_sel['coordinates']['x']\n",
    "    y = reg_sel['coordinates']['y']\n",
    "    n_electeurs = reg_sel['n_electeurs']\n",
    "    col = reg_sel['color']\n",
    "    \n",
    "    regions_names.append(name)\n",
    "    regions_ID.append(ID)\n",
    "    xs.append(x)\n",
    "    ys.append(y)\n",
    "    n_elect.append(n_electeurs)\n",
    "    colors.append(col)\n",
    "    \n",
    "map_source = ColumnDataSource(\n",
    "    data = dict(\n",
    "        x=xs,\n",
    "        y=ys,\n",
    "        ID=regions_ID,\n",
    "        name=regions_names ,\n",
    "        n_electeurs = n_elect ,\n",
    "        color = colors))"
   ]
  },
  {
   "cell_type": "code",
   "execution_count": 60,
   "metadata": {
    "collapsed": true
   },
   "outputs": [],
   "source": [
    "output_file('Commune_voters.html')\n",
    "\n",
    "p = figure(#plot_width=700, plot_height=700,\n",
    "           title=\"Registered voters by Commune\" , title_text_font_size='12pt' ,\n",
    "           tools='wheel_zoom,hover')\n",
    "p.patches('x', 'y', \n",
    "          fill_color = \"color\" ,\n",
    "          line_color=\"grey\", line_width=0.5,\n",
    "          source=map_source)\n",
    "\n",
    "hover = p.select(dict(type=HoverTool))\n",
    "hover.point_policy = \"follow_mouse\"\n",
    "hover.tooltips = OrderedDict([\n",
    "        (\"Nom\", \"@name\") ,\n",
    "        (\"N Registered Voters\" , \"@n_electeurs\")])\n",
    "\n",
    "show(p)"
   ]
  },
  {
   "cell_type": "code",
   "execution_count": null,
   "metadata": {
    "collapsed": true
   },
   "outputs": [],
   "source": []
  }
 ],
 "metadata": {
  "kernelspec": {
   "display_name": "Python 3",
   "language": "python",
   "name": "python3"
  },
  "language_info": {
   "codemirror_mode": {
    "name": "ipython",
    "version": 3
   },
   "file_extension": ".py",
   "mimetype": "text/x-python",
   "name": "python",
   "nbconvert_exporter": "python",
   "pygments_lexer": "ipython3",
   "version": "3.5.1"
  }
 },
 "nbformat": 4,
 "nbformat_minor": 0
}
