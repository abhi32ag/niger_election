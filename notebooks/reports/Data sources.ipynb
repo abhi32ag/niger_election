{
 "cells": [
  {
   "cell_type": "code",
   "execution_count": 3,
   "metadata": {
    "collapsed": false,
    "nbpresent": {
     "id": "120adc02-76a5-44fb-ad2c-1b97df09a8f8"
    },
    "slideshow": {
     "slide_type": "skip"
    }
   },
   "outputs": [
    {
     "data": {
      "text/html": [
       "<style>.container { width:100% !important; }</style>"
      ],
      "text/plain": [
       "<IPython.core.display.HTML object>"
      ]
     },
     "metadata": {},
     "output_type": "display_data"
    }
   ],
   "source": [
    "from IPython.display import IFrame\n",
    "from IPython.core.display import HTML, display\n",
    "\n",
    "display(HTML(\"<style>.container { width:100% !important; }</style>\"))"
   ]
  },
  {
   "cell_type": "markdown",
   "metadata": {
    "slideshow": {
     "slide_type": "slide"
    }
   },
   "source": [
    "## Current AFRIPOP/WORLDPOP for Niger\n",
    "\n",
    "pb :\n",
    "* We essentially look at an overlay of covariate layers\n",
    "* Not callable by name"
   ]
  },
  {
   "cell_type": "code",
   "execution_count": 13,
   "metadata": {
    "collapsed": false,
    "slideshow": {
     "slide_type": "-"
    }
   },
   "outputs": [
    {
     "data": {
      "text/html": [
       "\n",
       "        <iframe\n",
       "            width=\"1600\"\n",
       "            height=\"1200\"\n",
       "            src=\"../../reports/figures/WORLDPOP_Niger.png\"\n",
       "            frameborder=\"0\"\n",
       "            allowfullscreen\n",
       "        ></iframe>\n",
       "        "
      ],
      "text/plain": [
       "<IPython.lib.display.IFrame at 0x7f81f003b898>"
      ]
     },
     "execution_count": 13,
     "metadata": {},
     "output_type": "execute_result"
    }
   ],
   "source": [
    "IFrame(\"../../reports/figures/WORLDPOP_Niger.png\" , width=1600, height=1200)"
   ]
  },
  {
   "cell_type": "markdown",
   "metadata": {
    "nbpresent": {
     "id": "b3366051-ac5c-43aa-bc97-b1572b7ca998"
    },
    "slideshow": {
     "slide_type": "slide"
    }
   },
   "source": [
    "# Data Sources\n",
    "\n",
    "## Niger 2016 Voters List"
   ]
  },
  {
   "cell_type": "code",
   "execution_count": 2,
   "metadata": {
    "collapsed": false,
    "nbpresent": {
     "id": "161a058e-3dd4-4947-8505-07822fcb9a02"
    },
    "scrolled": true,
    "slideshow": {
     "slide_type": "-"
    }
   },
   "outputs": [
    {
     "data": {
      "text/html": [
       "\n",
       "        <iframe\n",
       "            width=\"1200\"\n",
       "            height=\"500\"\n",
       "            src=\"http://www.ceni-niger.org/\"\n",
       "            frameborder=\"0\"\n",
       "            allowfullscreen\n",
       "        ></iframe>\n",
       "        "
      ],
      "text/plain": [
       "<IPython.lib.display.IFrame at 0x7fc3303f2ef0>"
      ]
     },
     "execution_count": 2,
     "metadata": {},
     "output_type": "execute_result"
    }
   ],
   "source": [
    "IFrame(\"http://www.ceni-niger.org/\", width=1200 , height=500)"
   ]
  },
  {
   "cell_type": "markdown",
   "metadata": {
    "slideshow": {
     "slide_type": "subslide"
    }
   },
   "source": [
    "### Niger RENALOC and RENACOM"
   ]
  },
  {
   "cell_type": "code",
   "execution_count": 5,
   "metadata": {
    "collapsed": false,
    "nbpresent": {
     "id": "78338fed-59c9-46d9-9f69-dac6254678ab"
    },
    "slideshow": {
     "slide_type": "-"
    }
   },
   "outputs": [
    {
     "data": {
      "text/html": [
       "\n",
       "        <iframe\n",
       "            width=\"800\"\n",
       "            height=\"800\"\n",
       "            src=\"../../data/external/RENALOC_Niger_733.pdf\"\n",
       "            frameborder=\"0\"\n",
       "            allowfullscreen\n",
       "        ></iframe>\n",
       "        "
      ],
      "text/plain": [
       "<IPython.lib.display.IFrame at 0x7fc330388048>"
      ]
     },
     "execution_count": 5,
     "metadata": {},
     "output_type": "execute_result"
    }
   ],
   "source": [
    "IFrame(\"../../data/external/RENALOC_Niger_733.pdf\" , width=800, height=800)"
   ]
  },
  {
   "cell_type": "markdown",
   "metadata": {
    "collapsed": true,
    "slideshow": {
     "slide_type": "slide"
    }
   },
   "source": [
    "## The case for voters list data\n",
    "\n",
    "* Updated on a regular basis\n",
    "* Methods similar to census\n",
    "* Audit of data\n",
    "* 27 countries voting in Africa between 2015 and 2016"
   ]
  },
  {
   "cell_type": "markdown",
   "metadata": {
    "slideshow": {
     "slide_type": "slide"
    }
   },
   "source": [
    "## Things to do\n",
    "\n",
    "1. Map localities\n",
    "2. Match names\n",
    "3. Model full population + Age structure"
   ]
  },
  {
   "cell_type": "markdown",
   "metadata": {
    "slideshow": {
     "slide_type": "slide"
    }
   },
   "source": [
    "## Modelling work"
   ]
  },
  {
   "cell_type": "code",
   "execution_count": 6,
   "metadata": {
    "collapsed": false,
    "slideshow": {
     "slide_type": "fragment"
    }
   },
   "outputs": [
    {
     "data": {
      "text/html": [
       "\n",
       "        <iframe\n",
       "            width=\"1600\"\n",
       "            height=\"1200\"\n",
       "            src=\"../../reports/figures/population_predict.png\"\n",
       "            frameborder=\"0\"\n",
       "            allowfullscreen\n",
       "        ></iframe>\n",
       "        "
      ],
      "text/plain": [
       "<IPython.lib.display.IFrame at 0x7f81f00dae10>"
      ]
     },
     "execution_count": 6,
     "metadata": {},
     "output_type": "execute_result"
    }
   ],
   "source": [
    "IFrame(\"../../reports/figures/population_predict.png\" , width=1600, height=1200)"
   ]
  },
  {
   "cell_type": "code",
   "execution_count": 9,
   "metadata": {
    "collapsed": false,
    "slideshow": {
     "slide_type": "fragment"
    }
   },
   "outputs": [
    {
     "data": {
      "text/html": [
       "\n",
       "        <iframe\n",
       "            width=\"1600\"\n",
       "            height=\"1200\"\n",
       "            src=\"../../reports/figures/age_spline.png?scale=0.9\"\n",
       "            frameborder=\"0\"\n",
       "            allowfullscreen\n",
       "        ></iframe>\n",
       "        "
      ],
      "text/plain": [
       "<IPython.lib.display.IFrame at 0x7f81f003b5f8>"
      ]
     },
     "execution_count": 9,
     "metadata": {},
     "output_type": "execute_result"
    }
   ],
   "source": [
    "IFrame(\"../../reports/figures/age_spline.png\" , width=1600, height=1200 , scale = 0.9)"
   ]
  },
  {
   "cell_type": "code",
   "execution_count": null,
   "metadata": {
    "collapsed": true
   },
   "outputs": [],
   "source": []
  }
 ],
 "metadata": {
  "anaconda-cloud": {},
  "celltoolbar": "Slideshow",
  "kernelspec": {
   "display_name": "Python [Root]",
   "language": "python",
   "name": "Python [Root]"
  },
  "language_info": {
   "codemirror_mode": {
    "name": "ipython",
    "version": 3
   },
   "file_extension": ".py",
   "mimetype": "text/x-python",
   "name": "python",
   "nbconvert_exporter": "python",
   "pygments_lexer": "ipython3",
   "version": "3.5.2"
  },
  "nbpresent": {
   "slides": {
    "27e37e98-c590-4008-8750-d35539c3c830": {
     "id": "27e37e98-c590-4008-8750-d35539c3c830",
     "prev": "c6376df7-9824-472b-930c-bd12b8a5bebd",
     "regions": {
      "d9bcd02f-c855-477b-a580-af767e0daff5": {
       "attrs": {
        "height": 0.8,
        "width": 0.8,
        "x": 0.1,
        "y": 0.1
       },
       "content": {
        "cell": "6cfadfd7-3c79-41f0-8e97-6fb95f8dfc35",
        "part": "whole"
       },
       "id": "d9bcd02f-c855-477b-a580-af767e0daff5"
      }
     }
    },
    "431f3b7a-2c0e-4de3-9470-d37b700f59c8": {
     "id": "431f3b7a-2c0e-4de3-9470-d37b700f59c8",
     "prev": "9431521b-7428-42ac-b64f-f0d4cff3eba3",
     "regions": {
      "a7eeebf6-c3a6-4a61-b492-1e7452476a06": {
       "attrs": {
        "height": 0.8,
        "width": 0.8,
        "x": 0.1,
        "y": 0.1
       },
       "content": {
        "cell": "78338fed-59c9-46d9-9f69-dac6254678ab",
        "part": "outputs"
       },
       "id": "a7eeebf6-c3a6-4a61-b492-1e7452476a06"
      }
     }
    },
    "5a4e42b6-ab88-43d6-a2ab-5d28a3ef3f9e": {
     "id": "5a4e42b6-ab88-43d6-a2ab-5d28a3ef3f9e",
     "prev": "431f3b7a-2c0e-4de3-9470-d37b700f59c8",
     "regions": {
      "71df2ec9-ce29-4854-9953-f94df6f7ed89": {
       "attrs": {
        "height": 0.8,
        "width": 0.8,
        "x": 0.1,
        "y": 0.1
       },
       "content": {
        "cell": "6cfadfd7-3c79-41f0-8e97-6fb95f8dfc35",
        "part": "outputs"
       },
       "id": "71df2ec9-ce29-4854-9953-f94df6f7ed89"
      }
     }
    },
    "9431521b-7428-42ac-b64f-f0d4cff3eba3": {
     "id": "9431521b-7428-42ac-b64f-f0d4cff3eba3",
     "prev": null,
     "regions": {
      "fd41363b-db9b-4630-9bce-d7577ff50bcf": {
       "attrs": {
        "height": 0.8,
        "width": 0.8,
        "x": 0.10058538318016784,
        "y": 0.12081362418374428
       },
       "content": {
        "cell": "161a058e-3dd4-4947-8505-07822fcb9a02",
        "part": "outputs"
       },
       "id": "fd41363b-db9b-4630-9bce-d7577ff50bcf"
      }
     }
    },
    "c6376df7-9824-472b-930c-bd12b8a5bebd": {
     "id": "c6376df7-9824-472b-930c-bd12b8a5bebd",
     "prev": "5a4e42b6-ab88-43d6-a2ab-5d28a3ef3f9e",
     "regions": {
      "0c01b0b4-6c5e-44fa-b5e7-34422d047aaf": {
       "attrs": {
        "height": 0.8,
        "width": 0.8,
        "x": 0.1,
        "y": 0.1
       },
       "content": {
        "cell": "78338fed-59c9-46d9-9f69-dac6254678ab",
        "part": "whole"
       },
       "id": "0c01b0b4-6c5e-44fa-b5e7-34422d047aaf"
      }
     }
    },
    "c8198439-1ba9-4568-8950-b3929c70ebba": {
     "id": "c8198439-1ba9-4568-8950-b3929c70ebba",
     "prev": "27e37e98-c590-4008-8750-d35539c3c830",
     "regions": {
      "f53d793f-dd5e-47df-865b-35251beacfd4": {
       "attrs": {
        "height": 0.8,
        "width": 0.8,
        "x": 0.1,
        "y": 0.1
       },
       "content": {
        "cell": "57ddf2c6-4c8c-49f3-b50b-5e4a358f9f48",
        "part": "whole"
       },
       "id": "f53d793f-dd5e-47df-865b-35251beacfd4"
      }
     }
    }
   },
   "themes": {}
  }
 },
 "nbformat": 4,
 "nbformat_minor": 0
}
