{
 "cells": [
  {
   "cell_type": "code",
   "execution_count": null,
   "metadata": {
    "collapsed": true
   },
   "outputs": [],
   "source": [
    "map_professions = {\n",
    "    'Travailleur à  la tâche': 'Travailleur à la tâche' ,\n",
    "    'Agriculteur' : 'Agriculture' ,\n",
    "    '1' : 'NON PRECISE' ,\n",
    "    '2' : 'NON PRECISE' ,\n",
    "    '3' : 'NON PRECISE' , \n",
    "    'TAILLEUR' : 'Artisan / Tisserand' ,\n",
    "    'REVENDEUR' : 'Commerce' ,\n",
    "    'Agricuteur' : 'Agriculture' ,\n",
    "    'CULTIVATEUR' : 'Agriculture' ,\n",
    "    'BERGERE' : 'BERGER' , \n",
    "    'Travailleur à\\xa0 la tâche' : 'Travailleur à la tâche' ,\n",
    "    'BOUCHE' : 'BOUCHER' ,\n",
    "    'COUTIRIRE' : 'Artisan / Tisserand' ,\n",
    "    'CHAUFFEU' : 'CHAUFFEUR' ,\n",
    "    'CHAUFEUR' : 'CHAUFFEUR' ,\n",
    "    'ENEIGNANT ARABE' : 'ENSEIGNANT' ,\n",
    "    'ENSEIGNANTE' : 'ENSEIGNANT' ,\n",
    "    'MARABOU' : 'MARABOUT' ,\n",
    "    'VIEILLARD' : 'RETRAITE' ,\n",
    "    '110' : 'NON PRECISE' ,\n",
    "    '031' : 'NON PRECISE' ,\n",
    "    'INFIRMIERE A LA RETRAITE' : 'RETRAITE' ,\n",
    "    'Ménagère / Domestique' : 'Ménagère / Domestique' ,\n",
    "    'Agriculture' : 'Agriculture' ,\n",
    "    'Marié (e) Polygamme' : 'NON PRECISE' ,\n",
    "    'Marié (e) Monogame' : 'NON PRECISE' ,\n",
    "    'ECOLE CORANIQUE' : 'Elève / Etudiant' ,\n",
    "    'Elève / Etudiant' : 'Elève / Etudiant' ,\n",
    "    'Commerce' : 'Commerce' ,\n",
    "    'COMMERCANT' : 'Commerce' ,\n",
    "    'ELEVE CORANIQUE' :'Elève / Etudiant' ,\n",
    "    'MACON' : 'MAÇON' ,\n",
    "    'Administration Publique' : 'Administration Publique' ,\n",
    "    'CHAFFEUR' : 'CHAUFFEUR' , \n",
    "    'CHAUFFEUR' : 'CHAUFFEUR' ,\n",
    "    'CJAUFFEUR' : 'CHAUFFEUR' ,\n",
    "    'Sans Occupation' : 'Sans Occupation' ,\n",
    "    'MAàON' : 'MAÇON' ,\n",
    "    'ELEVE' : 'Elève / Etudiant' ,\n",
    "    'àLEVEUR' : 'ELEVEUR' ,\n",
    "    'ELEVEUR' : 'ELEVEUR' ,\n",
    "    '9' : 'NON PRECISE' ,\n",
    "    'APPRENTI CHAUFFEUR' : 'CHAUFFEUR' ,\n",
    "    'COUTURIERE' : 'Artisan / Tisserand' ,\n",
    "    'Artisan / Tisserand' : 'Artisan / Tisserand' ,\n",
    "    '0' : 'NON PRECISE' ,\n",
    "    '5' : 'NON PRECISE' ,\n",
    "    'P' : 'NON PRECISE' ,\n",
    "    '4' : 'NON PRECISE' ,\n",
    "    'Travailleur à la tâche' : 'Travailleur à la tâche' ,\n",
    "    'Administration Privée' : 'Administration Privée' ,\n",
    "    'MARABOUT' : 'MARABOUT' , \n",
    "    'BOUCHER' : 'BOUCHER' ,\n",
    "    'ELVEUR' : 'ELEVEUR',\n",
    "    'AUTRES' : 'AUTRE' ,\n",
    "    'TALIBE' : 'Elève / Etudiant' ,\n",
    "    'REVENDEUSE' : 'Commerce' \n",
    "}\n",
    "\n",
    "data['profession2'] = data['profession'].map(map_professions)\n",
    "print(len(data.loc[~(data['profession'].isin(map_professions) ), 'profession'].unique()))\n",
    "data.loc[~(data['profession'].isin(map_professions) ), 'profession'].value_counts()"
   ]
  },
  {
   "cell_type": "code",
   "execution_count": null,
   "metadata": {
    "collapsed": true
   },
   "outputs": [],
   "source": [
    "data['profession2'].value_counts()"
   ]
  }
 ],
 "metadata": {
  "kernelspec": {
   "display_name": "Python [Root]",
   "language": "python",
   "name": "Python [Root]"
  },
  "language_info": {
   "codemirror_mode": {
    "name": "ipython",
    "version": 3
   },
   "file_extension": ".py",
   "mimetype": "text/x-python",
   "name": "python",
   "nbconvert_exporter": "python",
   "pygments_lexer": "ipython3",
   "version": "3.5.2"
  }
 },
 "nbformat": 4,
 "nbformat_minor": 0
}
