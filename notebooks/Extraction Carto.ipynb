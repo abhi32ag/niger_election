{
 "cells": [
  {
   "cell_type": "code",
   "execution_count": 1,
   "metadata": {
    "collapsed": false
   },
   "outputs": [],
   "source": [
    "import requests\n",
    "import os as os\n",
    "import json\n",
    "import pandas as pd\n",
    "\n",
    "os.chdir('c://users/grlurton/Google Drive/elections_niger')"
   ]
  },
  {
   "cell_type": "code",
   "execution_count": 35,
   "metadata": {
    "collapsed": false
   },
   "outputs": [],
   "source": [
    "dep_url = 'http://www.ceni-niger.org/ceniProject/jsmap/maps/dept-all.js'\n",
    "dep_head = 'Highcharts.maps[\"dept-all\"]='\n",
    "\n",
    "r = requests.get(dep_url)\n",
    "r = r.text.replace(dep_head, '').replace('\\r\\n' , '').replace('/*' , '').replace('*/' , '')\n",
    "\n",
    "dept_map = json.loads(r)"
   ]
  },
  {
   "cell_type": "code",
   "execution_count": 3,
   "metadata": {
    "collapsed": true
   },
   "outputs": [],
   "source": [
    "reg_url ='http://www.ceni-niger.org/ceniProject/jsmap/maps/reg_all.js'\n",
    "reg_head = 'Highcharts.maps[\"reg-all\"] ='\n",
    "\n",
    "r = requests.get(reg_url)\n",
    "r = r.text.replace(reg_head, '').replace('\\r\\n' , '').replace('/*' , '').replace('*/' , '')\n",
    "\n",
    "reg_map = json.loads(r)"
   ]
  },
  {
   "cell_type": "code",
   "execution_count": 54,
   "metadata": {
    "collapsed": false
   },
   "outputs": [],
   "source": [
    "nom_tag = 'DEPART'\n",
    "id_tag = 'KEY_DEPARTEMENT'\n",
    "\n",
    "def extract_gps(coordinates):\n",
    "    x = []\n",
    "    y = []\n",
    "    for j in range(len(coordinates)) :\n",
    "        x.append(coordinates[j][0])\n",
    "        y.append(coordinates[j][1])\n",
    "    out = {'x':x , 'y':y}\n",
    "    return out\n",
    "\n",
    "def extract_zone(zone_data , nom_tag , id_tag):\n",
    "    zone_name = zone_data['properties'][nom_tag]\n",
    "    zone_id = zone_data['properties'][id_tag]\n",
    "    coordinates = extract_gps(zone_data['geometry']['coordinates'][0])\n",
    "    out = {'id_zone':zone_id , 'name':zone_name , 'x':coordinates['x'] , 'y':coordinates['y']}\n",
    "    return out\n",
    "\n",
    "\n",
    "departements = dept_map['features']\n",
    "dept_map_out = {}\n",
    "for i in range(len(departements)) :\n",
    "    extracted = extract_zone(departements[i] , 'DEPART' , 'KEY_DEPARTEMENT')\n",
    "    dept_map_out[str(extracted['id_zone'])] = extracted\n",
    "    \n",
    "regions = reg_map['features']\n",
    "reg_map_out = {}\n",
    "for i in range(len(regions)) :\n",
    "    extracted = extract_zone(regions[i] , 'Nom_reg' , 'Code_reg')\n",
    "    reg_map_out[str(extracted['id_zone'])] = extracted"
   ]
  },
  {
   "cell_type": "code",
   "execution_count": 55,
   "metadata": {
    "collapsed": true
   },
   "outputs": [],
   "source": [
    "with open('data/dept_map.json', 'w') as outfile:\n",
    "    json.dump(dept_map_out, outfile)\n",
    "    \n",
    "with open('data/reg_map.json', 'w') as outfile:\n",
    "    json.dump(reg_map_out, outfile)"
   ]
  },
  {
   "cell_type": "code",
   "execution_count": null,
   "metadata": {
    "collapsed": true
   },
   "outputs": [],
   "source": []
  }
 ],
 "metadata": {
  "kernelspec": {
   "display_name": "Python 3",
   "language": "python",
   "name": "python3"
  },
  "language_info": {
   "codemirror_mode": {
    "name": "ipython",
    "version": 3
   },
   "file_extension": ".py",
   "mimetype": "text/x-python",
   "name": "python",
   "nbconvert_exporter": "python",
   "pygments_lexer": "ipython3",
   "version": "3.5.1"
  }
 },
 "nbformat": 4,
 "nbformat_minor": 0
}
