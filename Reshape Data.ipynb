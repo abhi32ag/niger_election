{
 "cells": [
  {
   "cell_type": "code",
   "execution_count": 1,
   "metadata": {
    "collapsed": true
   },
   "outputs": [],
   "source": [
    "from os import listdir , walk\n",
    "import pandas as pd"
   ]
  },
  {
   "cell_type": "code",
   "execution_count": 84,
   "metadata": {
    "collapsed": true
   },
   "outputs": [],
   "source": [
    "data= pd.read_csv('data/listes_electeurs/' + listdir('data/listes_electeurs/')[0], encoding = \"ISO-8859-1\")\n",
    "col_names = [\"ID1\" , \"ID2\" , \"unique_ID\" , \"nom\" , \"prenom\" , \"date_de_naissance\" , \"residence\" , \"profession\" , \"ID_BUREAU\"]\n",
    "data.columns = col_names"
   ]
  },
  {
   "cell_type": "code",
   "execution_count": 85,
   "metadata": {
    "collapsed": false
   },
   "outputs": [
    {
     "name": "stdout",
     "output_type": "stream",
     "text": [
      "1 % done\n",
      "2 % done\n",
      "3 % done\n",
      "4 % done\n",
      "5 % done\n",
      "6 % done\n",
      "7 % done\n",
      "8 % done\n",
      "9 % done\n",
      "10 % done\n",
      "11 % done\n",
      "12 % done\n",
      "13 % done\n",
      "14 % done\n",
      "15 % done\n",
      "16 % done\n",
      "17 % done\n",
      "18 % done\n",
      "19 % done\n",
      "20 % done\n",
      "21 % done\n",
      "22 % done\n",
      "23 % done\n",
      "24 % done\n",
      "25 % done\n",
      "26 % done\n",
      "27 % done\n",
      "28 % done\n",
      "29 % done\n",
      "30 % done\n",
      "31 % done\n",
      "32 % done\n",
      "33 % done\n",
      "34 % done\n",
      "35 % done\n",
      "36 % done\n",
      "37 % done\n",
      "38 % done\n",
      "39 % done\n",
      "40 % done\n",
      "41 % done\n",
      "42 % done\n",
      "43 % done\n",
      "44 % done\n",
      "45 % done\n",
      "46 % done\n",
      "47 % done\n",
      "48 % done\n",
      "49 % done\n",
      "50 % done\n",
      "51 % done\n",
      "52 % done\n",
      "53 % done\n",
      "54 % done\n",
      "55 % done\n",
      "56 % done\n",
      "57 % done\n",
      "58 % done\n",
      "59 % done\n",
      "60 % done\n",
      "61 % done\n",
      "62 % done\n",
      "63 % done\n",
      "64 % done\n",
      "65 % done\n",
      "66 % done\n",
      "67 % done\n",
      "68 % done\n",
      "69 % done\n",
      "70 % done\n",
      "71 % done\n",
      "72 % done\n",
      "73 % done\n",
      "74 % done\n",
      "75 % done\n",
      "76 % done\n",
      "77 % done\n",
      "78 % done\n",
      "79 % done\n",
      "80 % done\n",
      "81 % done\n",
      "82 % done\n",
      "83 % done\n",
      "84 % done\n",
      "85 % done\n",
      "86 % done\n",
      "87 % done\n",
      "88 % done\n",
      "89 % done\n",
      "90 % done\n",
      "91 % done\n",
      "92 % done\n",
      "93 % done\n",
      "94 % done\n",
      "95 % done\n",
      "96 % done\n",
      "97 % done\n",
      "98 % done\n",
      "99 % done\n",
      "100 % done\n"
     ]
    }
   ],
   "source": [
    "months = ['01','02','03','04','05','06','07','08','09','10','11','12']\n",
    "n_files =  len(listdir('data/listes_electeurs/'))\n",
    "done = 0\n",
    "for f in range(1,n_files):  \n",
    "    file = listdir('data/listes_electeurs/')[f]\n",
    "    data_temp = pd.read_csv('data/listes_electeurs/' + file, encoding = \"ISO-8859-1\")\n",
    "    \n",
    "    data_temp.columns = col_names\n",
    "    \n",
    "    no_date =  pd.isnull(data_temp['date_de_naissance'])\n",
    "    data_temp.loc[no_date,'date_de_naissance'] = \"00/00/0000\"   \n",
    "    \n",
    "    month_ok = (data_temp['date_de_naissance'].str[3:5].isin(months))\n",
    "    data_temp.loc[month_ok,'date_de_naissance'] = pd.to_datetime(data_temp.loc[month_ok,'date_de_naissance'])\n",
    "    data = data.append(data_temp , ignore_index=True)\n",
    "    \n",
    "    donep = round(100 * f / n_files)\n",
    "    if done != donep :\n",
    "        done = donep\n",
    "        print(str(done) + ' % done')"
   ]
  },
  {
   "cell_type": "code",
   "execution_count": 20,
   "metadata": {
    "collapsed": true
   },
   "outputs": [],
   "source": [
    "regions = pd.read_csv('data/Niger_Regions.csv' , encoding = \"ISO-8859-1\")\n",
    "departements = pd.read_csv('data/Niger_Departements.csv' , encoding = \"ISO-8859-1\")\n",
    "communes = pd.read_csv('data/Niger_Communes.csv' , encoding = \"ISO-8859-1\")\n",
    "bureaux = pd.read_csv('data/Niger_Bureaux.csv' , encoding = \"ISO-8859-1\")\n",
    "\n",
    "full_dat = pd.merge(regions , departements)\n",
    "full_dat = pd.merge(full_dat , communes)\n",
    "full_dat = pd.merge(full_dat , bureaux)"
   ]
  },
  {
   "cell_type": "code",
   "execution_count": 97,
   "metadata": {
    "collapsed": false
   },
   "outputs": [
    {
     "data": {
      "text/plain": [
       "Index(['ID1', 'ID2', 'unique_ID', 'date_de_naissance', 'residence',\n",
       "       'profession', 'ID_BUREAU'],\n",
       "      dtype='object')"
      ]
     },
     "execution_count": 97,
     "metadata": {},
     "output_type": "execute_result"
    }
   ],
   "source": [
    "del data['nom']\n",
    "del data['prenom']\n",
    "data.columns"
   ]
  },
  {
   "cell_type": "code",
   "execution_count": 89,
   "metadata": {
    "collapsed": false
   },
   "outputs": [],
   "source": [
    "import os\n",
    "os.chdir('c://users/Grégoire/IHME/elections_niger/data')"
   ]
  },
  {
   "cell_type": "code",
   "execution_count": 98,
   "metadata": {
    "collapsed": false
   },
   "outputs": [
    {
     "name": "stderr",
     "output_type": "stream",
     "text": [
      "C:\\Users\\Grégoire\\Anaconda3\\lib\\site-packages\\IPython\\core\\interactiveshell.py:3066: PerformanceWarning: \n",
      "your performance may suffer as PyTables will pickle object types that it cannot\n",
      "map directly to c-types [inferred_type->mixed-integer,key->block1_values] [items->['date_de_naissance', 'residence', 'profession']]\n",
      "\n",
      "  exec(code_obj, self.user_global_ns, self.user_ns)\n"
     ]
    }
   ],
   "source": [
    "store = pd.HDFStore('full_data.h5')\n",
    "store['data_electeurs'] = data\n",
    "store['data_zoning'] = full_dat"
   ]
  },
  {
   "cell_type": "code",
   "execution_count": null,
   "metadata": {
    "collapsed": true
   },
   "outputs": [],
   "source": []
  }
 ],
 "metadata": {
  "kernelspec": {
   "display_name": "Python 3",
   "language": "python",
   "name": "python3"
  },
  "language_info": {
   "codemirror_mode": {
    "name": "ipython",
    "version": 3
   },
   "file_extension": ".py",
   "mimetype": "text/x-python",
   "name": "python",
   "nbconvert_exporter": "python",
   "pygments_lexer": "ipython3",
   "version": "3.5.1"
  }
 },
 "nbformat": 4,
 "nbformat_minor": 0
}
