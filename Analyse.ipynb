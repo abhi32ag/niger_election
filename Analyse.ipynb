{
 "cells": [
  {
   "cell_type": "code",
   "execution_count": 1,
   "metadata": {
    "collapsed": true
   },
   "outputs": [],
   "source": [
    "from os import listdir , walk\n",
    "import pandas as pd"
   ]
  },
  {
   "cell_type": "code",
   "execution_count": 84,
   "metadata": {
    "collapsed": true
   },
   "outputs": [],
   "source": [
    "data= pd.read_csv('data/listes_electeurs/' + listdir('data/listes_electeurs/')[0], encoding = \"ISO-8859-1\")\n",
    "col_names = [\"ID1\" , \"ID2\" , \"unique_ID\" , \"nom\" , \"prenom\" , \"date_de_naissance\" , \"residence\" , \"profession\" , \"ID_BUREAU\"]\n",
    "data.columns = col_names"
   ]
  },
  {
   "cell_type": "code",
   "execution_count": null,
   "metadata": {
    "collapsed": false
   },
   "outputs": [],
   "source": [
    "months = ['01','02','03','04','05','06','07','08','09','10','11','12']\n",
    "n_files =  len(listdir('data/listes_electeurs/'))\n",
    "done = 0\n",
    "for f in range(1,n_files):  \n",
    "    file = listdir('data/listes_electeurs/')[f]\n",
    "    data_temp = pd.read_csv('data/listes_electeurs/' + file, encoding = \"ISO-8859-1\")\n",
    "    \n",
    "    data_temp.columns = col_names\n",
    "    \n",
    "    no_date =  pd.isnull(data_temp['date_de_naissance'])\n",
    "    data_temp.loc[no_date,'date_de_naissance'] = \"00/00/0000\"   \n",
    "    \n",
    "    month_ok = (data_temp['date_de_naissance'].str[3:5].isin(months))\n",
    "    data_temp.loc[month_ok,'date_de_naissance'] = pd.to_datetime(data_temp.loc[month_ok,'date_de_naissance'])\n",
    "    data = data.append(data_temp , ignore_index=True)\n",
    "    \n",
    "    donep = round(100 * f / n_files)\n",
    "    if done != donep :\n",
    "        done = donep\n",
    "        print(str(done) + ' % done')"
   ]
  },
  {
   "cell_type": "code",
   "execution_count": 20,
   "metadata": {
    "collapsed": true
   },
   "outputs": [],
   "source": [
    "regions = pd.read_csv('data/Niger_Regions.csv' , encoding = \"ISO-8859-1\")\n",
    "departements = pd.read_csv('data/Niger_Departements.csv' , encoding = \"ISO-8859-1\")\n",
    "communes = pd.read_csv('data/Niger_Communes.csv' , encoding = \"ISO-8859-1\")\n",
    "bureaux = pd.read_csv('data/Niger_Bureaux.csv' , encoding = \"ISO-8859-1\")\n",
    "\n",
    "full_dat = pd.merge(regions , departements)\n",
    "full_dat = pd.merge(full_dat , communes)\n",
    "full_dat = pd.merge(full_dat , bureaux)"
   ]
  },
  {
   "cell_type": "code",
   "execution_count": null,
   "metadata": {
    "collapsed": true
   },
   "outputs": [],
   "source": []
  }
 ],
 "metadata": {
  "kernelspec": {
   "display_name": "Python 3",
   "language": "python",
   "name": "python3"
  },
  "language_info": {
   "codemirror_mode": {
    "name": "ipython",
    "version": 3
   },
   "file_extension": ".py",
   "mimetype": "text/x-python",
   "name": "python",
   "nbconvert_exporter": "python",
   "pygments_lexer": "ipython3",
   "version": "3.5.1"
  }
 },
 "nbformat": 4,
 "nbformat_minor": 0
}
