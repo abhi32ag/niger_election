{
 "cells": [
  {
   "cell_type": "code",
   "execution_count": 1,
   "metadata": {
    "collapsed": true
   },
   "outputs": [],
   "source": [
    "from os import listdir , walk\n",
    "import pandas as pd\n",
    "import os\n",
    "\n",
    "os.chdir('c://users/grlurton/Google Drive/elections_niger')"
   ]
  },
  {
   "cell_type": "code",
   "execution_count": 2,
   "metadata": {
    "collapsed": true
   },
   "outputs": [],
   "source": [
    "def convert_date(data , variable_name):\n",
    "    data[variable_name] = pd.to_datetime(data[variable_name] , errors = 'coerce')\n",
    "    return data"
   ]
  },
  {
   "cell_type": "code",
   "execution_count": 3,
   "metadata": {
    "collapsed": true
   },
   "outputs": [],
   "source": [
    "data= pd.read_csv('data/listes_electeurs/' + listdir('data/listes_electeurs/')[0], encoding = \"ISO-8859-1\")\n",
    "col_names = [\"ID1\" , \"ID2\" , \"unique_ID\" , \"nom\" , \"prenom\" , \"date_de_naissance\" , \"residence\" , \"profession\" , \"ID_BUREAU\"]\n",
    "data.columns = col_names"
   ]
  },
  {
   "cell_type": "code",
   "execution_count": 4,
   "metadata": {
    "collapsed": false
   },
   "outputs": [],
   "source": [
    "data = convert_date(data , 'date_de_naissance')\n",
    "del data['nom']\n",
    "del data['prenom']"
   ]
  },
  {
   "cell_type": "code",
   "execution_count": 5,
   "metadata": {
    "collapsed": false
   },
   "outputs": [
    {
     "name": "stdout",
     "output_type": "stream",
     "text": [
      "1 % done\n",
      "2 % done\n",
      "3 % done\n",
      "4 % done\n",
      "5 % done\n",
      "6 % done\n",
      "7 % done\n",
      "8 % done\n",
      "9 % done\n",
      "10 % done\n",
      "11 % done\n",
      "12 % done\n",
      "13 % done\n",
      "14 % done\n",
      "15 % done\n",
      "16 % done\n",
      "17 % done\n",
      "18 % done\n",
      "19 % done\n",
      "20 % done\n",
      "21 % done\n",
      "22 % done\n",
      "23 % done\n",
      "24 % done\n",
      "25 % done\n",
      "26 % done\n",
      "27 % done\n",
      "28 % done\n",
      "29 % done\n",
      "30 % done\n",
      "31 % done\n",
      "32 % done\n",
      "33 % done\n",
      "34 % done\n",
      "35 % done\n",
      "36 % done\n",
      "37 % done\n",
      "38 % done\n",
      "39 % done\n",
      "40 % done\n",
      "41 % done\n",
      "42 % done\n",
      "43 % done\n",
      "44 % done\n",
      "45 % done\n",
      "46 % done\n",
      "47 % done\n",
      "48 % done\n",
      "49 % done\n",
      "50 % done\n",
      "51 % done\n",
      "52 % done\n",
      "53 % done\n",
      "54 % done\n",
      "55 % done\n",
      "56 % done\n",
      "57 % done\n",
      "58 % done\n",
      "59 % done\n",
      "60 % done\n",
      "61 % done\n",
      "62 % done\n",
      "63 % done\n",
      "64 % done\n",
      "65 % done\n",
      "66 % done\n",
      "67 % done\n",
      "68 % done\n",
      "69 % done\n",
      "70 % done\n",
      "71 % done\n",
      "72 % done\n",
      "73 % done\n",
      "74 % done\n",
      "75 % done\n",
      "76 % done\n",
      "77 % done\n",
      "78 % done\n",
      "79 % done\n",
      "80 % done\n",
      "81 % done\n",
      "82 % done\n",
      "83 % done\n",
      "84 % done\n",
      "85 % done\n",
      "86 % done\n",
      "87 % done\n",
      "88 % done\n",
      "89 % done\n",
      "90 % done\n",
      "91 % done\n",
      "92 % done\n",
      "93 % done\n",
      "94 % done\n",
      "95 % done\n",
      "96 % done\n",
      "97 % done\n",
      "98 % done\n",
      "99 % done\n",
      "100 % done\n"
     ]
    }
   ],
   "source": [
    "n_files =  len(listdir('data/listes_electeurs/'))\n",
    "done = 0\n",
    "for f in range(1,n_files):  \n",
    "    file = listdir('data/listes_electeurs/')[f]\n",
    "    data_temp = pd.read_csv('data/listes_electeurs/' + file, encoding = \"ISO-8859-1\")\n",
    "    \n",
    "    data_temp.columns = col_names\n",
    "    data_temp = convert_date(data_temp , 'date_de_naissance')\n",
    "    del data_temp['nom']\n",
    "    del data_temp['prenom']\n",
    "    data = data.append(data_temp , ignore_index=True)\n",
    "    \n",
    "    donep = round(100 * f / n_files)\n",
    "    if done != donep :\n",
    "        done = donep\n",
    "        print(str(done) + ' % done')"
   ]
  },
  {
   "cell_type": "code",
   "execution_count": 7,
   "metadata": {
    "collapsed": false
   },
   "outputs": [],
   "source": [
    "regions = pd.read_csv('data/Niger_Regions.csv' , encoding = \"ISO-8859-1\")\n",
    "departements = pd.read_csv('data/Niger_Departements.csv' , encoding = \"ISO-8859-1\")\n",
    "communes = pd.read_csv('data/Niger_Communes.csv' , encoding = \"ISO-8859-1\")\n",
    "bureaux = pd.read_csv('data/Niger_Bureaux.csv' , encoding = \"ISO-8859-1\")\n",
    "\n",
    "del regions['Unnamed: 0']\n",
    "del departements['Unnamed: 0']\n",
    "del communes['Unnamed: 0']\n",
    "del bureaux['Unnamed: 0']\n",
    "\n",
    "full_dat = pd.merge(regions , departements , how = 'outer' , on = 'ID_REGION')\n",
    "full_dat = pd.merge(full_dat , communes , how = 'outer' , on = 'ID_DEPART')\n",
    "full_dat = pd.merge(full_dat , bureaux , how = 'outer' , on = 'ID_COMMUNE')"
   ]
  },
  {
   "cell_type": "code",
   "execution_count": 8,
   "metadata": {
    "collapsed": true
   },
   "outputs": [],
   "source": [
    "full_data = pd.merge(full_dat, data , on='ID_BUREAU')"
   ]
  },
  {
   "cell_type": "code",
   "execution_count": 9,
   "metadata": {
    "collapsed": false
   },
   "outputs": [
    {
     "name": "stderr",
     "output_type": "stream",
     "text": [
      "C:\\Users\\grlurton\\AppData\\Local\\Continuum\\Anaconda3\\lib\\site-packages\\IPython\\core\\interactiveshell.py:2885: PerformanceWarning: \n",
      "your performance may suffer as PyTables will pickle object types that it cannot\n",
      "map directly to c-types [inferred_type->mixed,key->block2_values] [items->['residence', 'profession']]\n",
      "\n",
      "  exec(code_obj, self.user_global_ns, self.user_ns)\n",
      "C:\\Users\\grlurton\\AppData\\Local\\Continuum\\Anaconda3\\lib\\site-packages\\IPython\\core\\interactiveshell.py:2885: PerformanceWarning: \n",
      "your performance may suffer as PyTables will pickle object types that it cannot\n",
      "map directly to c-types [inferred_type->mixed,key->block2_values] [items->['NOM_REGION', 'NOM_DEPART', 'NOM_COMMUNE', 'NOM_BUREAU']]\n",
      "\n",
      "  exec(code_obj, self.user_global_ns, self.user_ns)\n",
      "C:\\Users\\grlurton\\AppData\\Local\\Continuum\\Anaconda3\\lib\\site-packages\\IPython\\core\\interactiveshell.py:2885: PerformanceWarning: \n",
      "your performance may suffer as PyTables will pickle object types that it cannot\n",
      "map directly to c-types [inferred_type->mixed,key->block3_values] [items->['NOM_REGION', 'NOM_DEPART', 'NOM_COMMUNE', 'NOM_BUREAU', 'residence', 'profession']]\n",
      "\n",
      "  exec(code_obj, self.user_global_ns, self.user_ns)\n"
     ]
    }
   ],
   "source": [
    "store = pd.HDFStore('data/full_data.h5')\n",
    "store['data_electeurs'] = data\n",
    "store['data_zoning'] = full_dat\n",
    "store['complete_data'] = full_data\n",
    "store.close()"
   ]
  },
  {
   "cell_type": "code",
   "execution_count": null,
   "metadata": {
    "collapsed": true
   },
   "outputs": [],
   "source": []
  }
 ],
 "metadata": {
  "kernelspec": {
   "display_name": "Python 3",
   "language": "python",
   "name": "python3"
  },
  "language_info": {
   "codemirror_mode": {
    "name": "ipython",
    "version": 3
   },
   "file_extension": ".py",
   "mimetype": "text/x-python",
   "name": "python",
   "nbconvert_exporter": "python",
   "pygments_lexer": "ipython3",
   "version": "3.5.1"
  }
 },
 "nbformat": 4,
 "nbformat_minor": 0
}
