{
 "cells": [
  {
   "cell_type": "code",
   "execution_count": 1,
   "metadata": {
    "collapsed": true
   },
   "outputs": [],
   "source": [
    "import requests \n",
    "from bs4 import BeautifulSoup\n",
    "import pandas as pd\n",
    "import datetime as datetime\n",
    "import time"
   ]
  },
  {
   "cell_type": "code",
   "execution_count": 2,
   "metadata": {
    "collapsed": false
   },
   "outputs": [],
   "source": [
    "def extract_region(url) :\n",
    "    lu  = 'non'\n",
    "    while lu == 'non' :\n",
    "        try :\n",
    "            r = requests.get(url)\n",
    "            lu = 'oui'\n",
    "        except :\n",
    "            print('On réessaye')\n",
    "    r = r.text\n",
    "    soup = BeautifulSoup(r , 'html.parser') \n",
    "    table_results =  soup.select(\"table\") \n",
    "    table_rows = table_results[0].findAll('tr')\n",
    "    nrows = len(table_rows)\n",
    "    \n",
    "    dframe = {}\n",
    "    reg = soup.select(\"h1\")[0].text.strip()\n",
    "    print('Extracting ' + reg)\n",
    "    \n",
    "    for row in range(1 , nrows) :\n",
    "        cont = table_rows[row].findAll('td')\n",
    "        row_val = [reg]\n",
    "        ncol = len(cont)\n",
    "        for column in range(ncol) :\n",
    "            row_val = row_val + [cont[column].text.strip()]\n",
    "\n",
    "        dframe[str(row)] = row_val\n",
    "\n",
    "    out = pd.DataFrame(dframe).T\n",
    "    out['time'] = datetime.datetime.now()\n",
    "    out \n",
    "    return out"
   ]
  },
  {
   "cell_type": "code",
   "execution_count": 3,
   "metadata": {
    "collapsed": true
   },
   "outputs": [],
   "source": [
    "n_regions = 9\n",
    "\n",
    "def extract_all(url_base , n_regions) :\n",
    "    data_out = []\n",
    "    for i in range(1 , n_regions + 1) :\n",
    "        url = url_base + str(i)\n",
    "        out = extract_region(url)\n",
    "        if len(data_out) > 0 :\n",
    "            if len(out) > 0 :\n",
    "                data_out = data_out.append(out, ignore_index=True)\n",
    "        if len(data_out) == 0 :\n",
    "            data_out = out\n",
    "\n",
    "    return data_out\n",
    "        "
   ]
  },
  {
   "cell_type": "code",
   "execution_count": 4,
   "metadata": {
    "collapsed": false
   },
   "outputs": [
    {
     "name": "stdout",
     "output_type": "stream",
     "text": [
      "Extracting Region de :AGADEZ\n",
      "Extracting Region de :DIFFA\n",
      "On réessaye\n",
      "On réessaye\n",
      "On réessaye\n",
      "On réessaye\n",
      "Extracting Region de :DOSSO\n",
      "On réessaye\n",
      "On réessaye\n",
      "On réessaye\n",
      "On réessaye\n",
      "On réessaye\n",
      "On réessaye\n",
      "On réessaye\n",
      "On réessaye\n",
      "On réessaye\n",
      "On réessaye\n",
      "On réessaye\n",
      "On réessaye\n",
      "On réessaye\n",
      "On réessaye\n",
      "On réessaye\n",
      "On réessaye\n",
      "Extracting Region de :MARADI\n",
      "On réessaye\n",
      "Extracting Region de :TAHOUA\n",
      "On réessaye\n",
      "On réessaye\n",
      "Extracting Region de :TILLABERI\n",
      "On réessaye\n",
      "Extracting Region de :ZINDER\n",
      "Extracting Region de :NIAMEY\n",
      "Extracting Region de :DIASPORA\n",
      "44\n"
     ]
    }
   ],
   "source": [
    "out = []\n",
    "out = extract_all('http://www.ceni-niger.org/ceniProject/resultats/region/' , n_regions)\n",
    "out['time'] = datetime.datetime.now()\n",
    "print(len(out))"
   ]
  },
  {
   "cell_type": "code",
   "execution_count": 25,
   "metadata": {
    "collapsed": true
   },
   "outputs": [],
   "source": [
    "final = pd.read_csv('DataNiger.csv')"
   ]
  },
  {
   "cell_type": "code",
   "execution_count": 36,
   "metadata": {
    "collapsed": false
   },
   "outputs": [],
   "source": [
    "final.to_csv('DataNiger.csv')"
   ]
  },
  {
   "cell_type": "code",
   "execution_count": null,
   "metadata": {
    "collapsed": false
   },
   "outputs": [
    {
     "name": "stdout",
     "output_type": "stream",
     "text": [
      "Lecture des Données\n",
      "Extracting Region de :AGADEZ\n",
      "Extracting Region de :DIFFA\n",
      "Extracting Region de :DOSSO\n",
      "Extracting Region de :MARADI\n",
      "On réessaye\n",
      "On réessaye\n",
      "Extracting Region de :TAHOUA\n",
      "On réessaye\n",
      "Extracting Region de :TILLABERI\n",
      "On réessaye\n",
      "On réessaye\n",
      "On réessaye\n",
      "Extracting Region de :ZINDER\n",
      "On réessaye\n",
      "On réessaye\n",
      "Extracting Region de :NIAMEY\n",
      "On réessaye\n",
      "On réessaye\n",
      "Extracting Region de :DIASPORA\n",
      "On rajoute 2 résultats !\n",
      "Lecture des Données\n",
      "On réessaye\n",
      "Extracting Region de :AGADEZ\n",
      "Extracting Region de :DIFFA\n",
      "Extracting Region de :DOSSO\n",
      "On réessaye\n",
      "Extracting Region de :MARADI\n",
      "On réessaye\n",
      "On réessaye\n",
      "Extracting Region de :TAHOUA\n",
      "On réessaye\n",
      "On réessaye\n",
      "On réessaye\n",
      "On réessaye\n",
      "On réessaye\n",
      "Extracting Region de :TILLABERI\n",
      "On réessaye\n",
      "On réessaye\n",
      "On réessaye\n",
      "On réessaye\n",
      "Extracting Region de :ZINDER\n",
      "Extracting Region de :NIAMEY\n",
      "On réessaye\n",
      "Extracting Region de :DIASPORA\n",
      "Apparemment rien de nouveau\n",
      "Lecture des Données\n",
      "Extracting Region de :AGADEZ\n",
      "Extracting Region de :DIFFA\n",
      "Extracting Region de :DOSSO\n",
      "On réessaye\n",
      "On réessaye\n",
      "Extracting Region de :MARADI\n",
      "On réessaye\n",
      "Extracting Region de :TAHOUA\n",
      "On réessaye\n",
      "On réessaye\n",
      "On réessaye\n",
      "On réessaye\n",
      "On réessaye\n",
      "On réessaye\n",
      "On réessaye\n",
      "On réessaye\n",
      "On réessaye\n",
      "On réessaye\n",
      "Extracting Region de :TILLABERI\n",
      "Extracting Region de :ZINDER\n",
      "Extracting Region de :NIAMEY\n",
      "Extracting Region de :DIASPORA\n",
      "Apparemment rien de nouveau\n",
      "Lecture des Données\n",
      "Extracting Region de :AGADEZ\n",
      "Extracting Region de :DIFFA\n",
      "Extracting Region de :DOSSO\n",
      "On réessaye\n",
      "Extracting Region de :MARADI\n",
      "On réessaye\n",
      "On réessaye\n",
      "On réessaye\n",
      "On réessaye\n",
      "Extracting Region de :TAHOUA\n",
      "On réessaye\n",
      "Extracting Region de :TILLABERI\n",
      "On réessaye\n",
      "On réessaye\n",
      "Extracting Region de :ZINDER\n",
      "Extracting Region de :NIAMEY\n",
      "On réessaye\n",
      "On réessaye\n",
      "Extracting Region de :DIASPORA\n",
      "Apparemment rien de nouveau\n",
      "Lecture des Données\n",
      "On réessaye\n",
      "On réessaye\n",
      "Extracting Region de :AGADEZ\n",
      "Extracting Region de :DIFFA\n",
      "On réessaye\n",
      "Extracting Region de :DOSSO\n",
      "On réessaye\n",
      "Extracting Region de :MARADI\n",
      "Extracting Region de :TAHOUA\n",
      "Extracting Region de :TILLABERI\n",
      "Extracting Region de :ZINDER\n",
      "Extracting Region de :NIAMEY\n",
      "On réessaye\n",
      "On réessaye"
     ]
    }
   ],
   "source": [
    "aa = len(out)\n",
    "ll = 0\n",
    "while (len(out) < 308) :\n",
    "    print('Lecture des Données')\n",
    "    ll = ll + 1\n",
    "    garde = 'non'\n",
    "    out = extract_all('http://www.ceni-niger.org/ceniProject/resultats/region/' , n_regions)\n",
    "    if len(out) == aa :\n",
    "        print('Apparemment rien de nouveau')\n",
    "    if len(out) != aa :\n",
    "        final =  final.append(out, ignore_index=True)\n",
    "        print('On rajoute ' + str(len(out) - aa) +  ' résultats !')\n",
    "        aa = len(out)\n",
    "        garde == 'oui'\n",
    "    if ll%5 == 0 :\n",
    "        print(\"C'est le moment d'écrire un peu\")\n",
    "        if garde == 'non' :\n",
    "            print(\"On sauve les résultats même si inchangés\")\n",
    "            out.columns = ['0', '1', '2', '3', '4', '5', '6', '7', '8', '9', '10', '11', \n",
    "                           '12', '13', '14', '15', '16', '17', '18', '19', '20', '21', '22', '23', 'time']\n",
    "            final =  final.append(out, ignore_index=False)\n",
    "            aa = len(out)\n",
    "            garde == 'oui'\n",
    "        final.to_csv('DataNiger.csv')\n",
    "    time.sleep(900)     "
   ]
  },
  {
   "cell_type": "code",
   "execution_count": null,
   "metadata": {
    "collapsed": true
   },
   "outputs": [],
   "source": [
    "aa = len(out)\n",
    "ll = 0\n",
    "while (len(out) < 308) :\n",
    "    print('Lecture des Données')\n",
    "    ll = ll + 1\n",
    "    garde = 'non'\n",
    "    out = extract_all('http://www.ceni-niger.org/ceniProject/resultats/commune/' , n_regions)\n",
    "    if len(out) == aa :\n",
    "        print('Apparemment rien de nouveau')\n",
    "    if len(out) != aa :\n",
    "        final =  final.append(out, ignore_index=True)\n",
    "        print('On rajoute ' + str(len(out) - aa) +  ' résultats !')\n",
    "        aa = len(out)\n",
    "        garde == 'oui'\n",
    "    if ll%5 == 0 :\n",
    "        print(\"C'est le moment d'écrire un peu\")\n",
    "        if garde == 'non' :\n",
    "            print(\"On sauve les résultats même si inchangés\")\n",
    "            out.columns = ['0', '1', '2', '3', '4', '5', '6', '7', '8', '9', '10', '11', \n",
    "                           '12', '13', '14', '15', '16', '17', '18', '19', '20', '21', '22', '23', 'time']\n",
    "            final =  final.append(out, ignore_index=False)\n",
    "            aa = len(out)\n",
    "            garde == 'oui'\n",
    "        final.to_csv('data/communes_results.csv')\n",
    "    time.sleep(900)     "
   ]
  }
 ],
 "metadata": {
  "kernelspec": {
   "display_name": "Python 3",
   "language": "python",
   "name": "python3"
  },
  "language_info": {
   "codemirror_mode": {
    "name": "ipython",
    "version": 3
   },
   "file_extension": ".py",
   "mimetype": "text/x-python",
   "name": "python",
   "nbconvert_exporter": "python",
   "pygments_lexer": "ipython3",
   "version": "3.5.1"
  }
 },
 "nbformat": 4,
 "nbformat_minor": 0
}
