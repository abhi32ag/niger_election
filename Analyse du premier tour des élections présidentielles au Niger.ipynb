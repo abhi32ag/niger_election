{
 "cells": [
  {
   "cell_type": "markdown",
   "metadata": {
    "collapsed": true
   },
   "source": [
    "# Analyse des résultats du premier tour des élections présidentielles au Niger\n",
    "\n",
    "**Grégoire Lurton** [@grlurton](https://twitter.com/grlurton)"
   ]
  },
  {
   "cell_type": "markdown",
   "metadata": {},
   "source": [
    "Le premier tour des élections présidentielles 2016 au Niger a eu lieu le 21 février 2016. Il a opposé 15 candidats, dont deux se sont qualifiés pour un second tour qui aura lieu le 20 mars. La Commission Electorale Nationale Indépendante était chargée d'organiser ces élections, et a publié un nombre exeptionnel de données sur son site internet : http://www.ceni-niger.org/. Cette transparence inédite doit être remarquée, et il m'est apparu intéressant d'en profiter pour proposer une présentation des résultats de ce premier tour.\n",
    "\n",
    "J'ai donc extrait toutes les données qui me paraissaient intéressantes dans ce site et en présente ici une première analyse. L'analyse est présentée sous la forme d'un *Jupyter Notebook* qui est une solution simple pour présenter des résultats d'une analyse en cours. Pour faciliter la lecture j'ai essayé de nettoyer au maximum le code pour renvoyer dans des scripts annexes les lignes qui ne contribuent pas directement aux résultats de l'analyse elle même. Tous ces scripts ainsi que les scripts utilisés pour l'extraction des données sont disponible sur https://github.com/grlurton/niger_election. Je tiens les données que j'utilise à la disposition de toute personne intéressée qui voudrait reproduire ces analyses ou les approfondir.\n",
    "\n",
    "Je suis preneur de feedback et de suggestions d'analyses complémentaires."
   ]
  },
  {
   "cell_type": "markdown",
   "metadata": {},
   "source": [
    "# Ouverture des données"
   ]
  },
  {
   "cell_type": "markdown",
   "metadata": {},
   "source": [
    "On commence par charger les librairies qu'on utilisera par la suite."
   ]
  },
  {
   "cell_type": "code",
   "execution_count": 5,
   "metadata": {
    "collapsed": true
   },
   "outputs": [],
   "source": [
    "import pandas as pd\n",
    "import os as os\n",
    "import numpy as np\n",
    "import matplotlib.pyplot as plt\n",
    "from ggplot import *\n",
    "import json\n",
    "from io import StringIO\n",
    "\n",
    "from collections import OrderedDict\n",
    "from bokeh.plotting import figure, show, output_notebook, ColumnDataSource\n",
    "from bokeh.models import HoverTool \n",
    "from bokeh.models.widgets.layouts import VBox,HBox\n",
    "from bokeh.models.widgets import Dropdown\n",
    "from bokeh.io import vform\n",
    "\n",
    "%matplotlib inline  \n",
    "\n",
    "os.chdir('c://users/grlurton/Google Drive/elections_niger')"
   ]
  },
  {
   "cell_type": "markdown",
   "metadata": {},
   "source": [
    "Les données disponibles sur le site de la CENI sont de trois sortes :\n",
    "1. [Les listes électorales](http://www.ceni-niger.org/ceniProject/electeurs/bureau) sont disponibles par bureau de vote. \n",
    "2. [Les résultats du premier tour](http://www.ceni-niger.org/ceniProject/regions/map) sont disponibles par communes\n",
    "3. Le découpage administratif du territoire utilisé par la CENI peut être lu à travers les cartes des résultats, jusqu'au niveau départemental. J'ai utilisé ces données pour simplifier le matching des autres données avec les données cartographiques. Elles souffrent toutefois de quelques petites inconsistances qu'il faudrait que je corrige à la main et à l'heure actuelle un ou deux départements manquent sur les cartes.\n",
    "\n",
    "L'extraction des listes électorales se fait à travers [un script qui lit l'intégralité des bureaux de vote](https://github.com/grlurton/niger_election/blob/master/Extraction%20Listes%20Electorales.ipynb), [un script qui lit les listes électorales](https://github.com/grlurton/niger_election/blob/master/Extraction%20Electeurs.ipynb) et les anonymises, et [un script qui met en forme toutes ces données](https://github.com/grlurton/niger_election/blob/master/Extraction%20Electeurs.ipynb).\n",
    "\n",
    "L'extraction des résultats se fait [en un seul script](https://github.com/grlurton/niger_election/blob/master/Extraction%20Resultats.ipynb) qui extrait les résultats aux niveaux régionaux, départementaux et communaux. L'extraction a l'air d'avoir buggé pour plusieurs bureaux, mais je pense que c'est assez marginal (TODO : regarder la complétude de plus près).\n",
    "\n",
    "L'extraction des données cartographiques se fait en [un script](https://github.com/grlurton/niger_election/blob/master/Extraction%20Carto.ipynb) qui exporte ces données au format json.\n",
    "\n",
    "A ce stade, on se contente de lire ces données."
   ]
  },
  {
   "cell_type": "code",
   "execution_count": 3,
   "metadata": {
    "collapsed": false
   },
   "outputs": [],
   "source": [
    "## Données électeurs\n",
    "store_electeurs = pd.HDFStore('data/full_data.h5')\n",
    "data_electeurs = store_electeurs['complete_data']\n",
    "store_electeurs.close()\n",
    "\n",
    "## Données carto\n",
    "with open('data/dept_map.json') as json_data:\n",
    "    carto_dept = json.load(json_data)\n",
    "    json_data.close()\n",
    "    \n",
    "with open('data/reg_map.json') as json_data:\n",
    "    carto_reg = json.load(json_data)\n",
    "    json_data.close()\n",
    "    \n",
    "store_resultats = pd.HDFStore('data/data_resultats.h5')\n",
    "resultats_regions = store_resultats['data_regions']\n",
    "resultats_departements = store_resultats['data_departements']\n",
    "resultats_communes = store_resultats['data_communes']\n",
    "store_resultats.close()"
   ]
  },
  {
   "cell_type": "code",
   "execution_count": 4,
   "metadata": {
    "collapsed": false
   },
   "outputs": [],
   "source": [
    "#### Renvoyer ça dans le script de formatage\n",
    "data_electeurs['age'] = pd.datetime(2016, 2 , 21) - data_electeurs['date_de_naissance']\n",
    "data_electeurs['age'] = data_electeurs['age'].astype('timedelta64[D]') / 365.25"
   ]
  },
  {
   "cell_type": "markdown",
   "metadata": {},
   "source": [
    "# Description du Corps Electoral"
   ]
  },
  {
   "cell_type": "markdown",
   "metadata": {},
   "source": [
    "Un premier axe d'analyse intéressant de ces données est de décrire le corps électoral nigérien. Plus de 7.5 millions de nigériens sont inscrits sur les listes électorales ce qui donne une fenêtre unique sur cette population et sa distribution. "
   ]
  },
  {
   "cell_type": "code",
   "execution_count": 6,
   "metadata": {
    "collapsed": false
   },
   "outputs": [
    {
     "data": {
      "text/plain": [
       "<matplotlib.axes._subplots.AxesSubplot at 0x6cb0971d30>"
      ]
     },
     "execution_count": 6,
     "metadata": {},
     "output_type": "execute_result"
    },
    {
     "data": {
      "image/png": "[encoded data removed]",
      "text/plain": [
       "<matplotlib.figure.Figure at 0x6cfbd02f98>"
      ]
     },
     "metadata": {},
     "output_type": "display_data"
    }
   ],
   "source": [
    "region_date = data_electeurs['NOM_REGION'].groupby(data_electeurs['NOM_REGION']).apply(len)\n",
    "region_date.plot(kind = 'bar')"
   ]
  },
  {
   "cell_type": "markdown",
   "metadata": {
    "collapsed": false
   },
   "source": [
    "Trois axes d'analyse me paraissent intéressants à explorer: \n",
    "1. Description du corps électoral à travers les variables disponibles (essentiellement âge)\n",
    "2. Comparaison du corps électoral aux données du recensement de 2012\n",
    "3. Comparaison des listes électorales avec les dénominateurs des résultats du vote"
   ]
  },
  {
   "cell_type": "code",
   "execution_count": 7,
   "metadata": {
    "collapsed": false
   },
   "outputs": [],
   "source": [
    "resultats_regions['ID'] = resultats_regions['ID'].str.replace('Region de :' , '')"
   ]
  },
  {
   "cell_type": "code",
   "execution_count": 8,
   "metadata": {
    "collapsed": true
   },
   "outputs": [],
   "source": [
    "inscrits_dept = data_electeurs['NOM_DEPART'].groupby([data_electeurs['NOM_DEPART'] , data_electeurs['NOM_REGION']]).apply(len)"
   ]
  },
  {
   "cell_type": "code",
   "execution_count": null,
   "metadata": {
    "collapsed": false
   },
   "outputs": [],
   "source": [
    "u = pd.merge(inscrits_dept.reset_index(), resultats_regions , left_on = 'NOM_DEPART' , right_on = 'Département')\n",
    "a = u.columns.tolist()\n",
    "a[2] = 'n_electeurs'\n",
    "u.columns = a"
   ]
  },
  {
   "cell_type": "code",
   "execution_count": null,
   "metadata": {
    "collapsed": false
   },
   "outputs": [],
   "source": [
    "u['Inscrits'] = u['Inscrits'].str.replace(' ', '').astype(int)\n",
    "u['Inscrits ayant voté'] = u['Inscrits ayant voté'].str.replace(' ', '').astype(int)"
   ]
  },
  {
   "cell_type": "code",
   "execution_count": null,
   "metadata": {
    "collapsed": false
   },
   "outputs": [],
   "source": [
    "ggplot(aes(x='n_electeurs', y='Inscrits', colour = 'ID'), data=u ) +  geom_point() +  \\\n",
    " ylim(low = 0 , high = 400000)+ xlim(low = 0 , high = 400000)"
   ]
  },
  {
   "cell_type": "code",
   "execution_count": null,
   "metadata": {
    "collapsed": false
   },
   "outputs": [],
   "source": [
    "ggplot(aes(x='Inscrits', y='Inscrits ayant voté' , colour = 'ID'), data=u ) +  \\\n",
    "geom_point() + ylim(low = 0 , high = 200000)+ xlim(low = 0 , high = 400000)"
   ]
  },
  {
   "cell_type": "code",
   "execution_count": null,
   "metadata": {
    "collapsed": true
   },
   "outputs": [],
   "source": [
    "u['Votants sur liste additive'] = u['Bulletins blancs ou nuls'].str.replace(' ', '').astype(int)"
   ]
  },
  {
   "cell_type": "code",
   "execution_count": null,
   "metadata": {
    "collapsed": false
   },
   "outputs": [],
   "source": [
    "ggplot(aes(x='Bulletins blancs ou nuls', y='Votants sur liste additive' , colour = 'ID'), data=u ) +  \\\n",
    "geom_point() + ylim(low = 0 , high = 15000)+ xlim(low = 0 , high = 25000)"
   ]
  },
  {
   "cell_type": "code",
   "execution_count": null,
   "metadata": {
    "collapsed": false
   },
   "outputs": [],
   "source": [
    "u['Nbre total de votants'] = u['Nbre total de votants'].str.replace(' ', '').astype(int)\n",
    "u['prop_additifs'] = u['Votants sur liste additive'] / u['Nbre total de votants']"
   ]
  },
  {
   "cell_type": "code",
   "execution_count": null,
   "metadata": {
    "collapsed": false
   },
   "outputs": [],
   "source": [
    "qplot(u['prop_additifs'])"
   ]
  },
  {
   "cell_type": "markdown",
   "metadata": {},
   "source": [
    "# Cartographie des résultats"
   ]
  },
  {
   "cell_type": "code",
   "execution_count": null,
   "metadata": {
    "collapsed": false
   },
   "outputs": [],
   "source": [
    "candidats = ['Laouan Magagi', 'Mahaman Jean Philipe Padonou', 'Abdou Labo', 'Kassoum M. Moctar', 'Adal Rhoubeid', \n",
    "             'Mahamane Ousmane', 'Seyni Omar', 'Tahirou Guimba', 'Hama Amadou', 'Ibrahim Yacouba', 'Mahaman Hamissou Maman',\n",
    "             'Mahamadou Issoufou', 'Dr. Abdoulaye Amadou Traoré', 'Cheffou Amadou','Boubacar Cissé']\n",
    "\n",
    "listes = ['Inscrits', 'Inscrits ayant voté', 'Votants sur liste additive', 'Nbre total de votants', 'Bulletins blancs ou nuls',\n",
    "          'Suffrages exprimés valables']\n",
    "\n",
    "\n",
    "colors = [['#f7fcfd','#e5f5f9','#ccece6','#99d8c9','#66c2a4','#41ae76','#238b45','#006d2c','#00441b'] , \n",
    "          ['#f7f4f9','#e7e1ef','#d4b9da','#c994c7','#df65b0','#e7298a','#ce1256','#980043','#67001f'] ,\n",
    "          ['#ffffe5','#fff7bc','#fee391','#fec44f','#fe9929','#ec7014','#cc4c02','#993404','#662506'] ,\n",
    "          ['#fff5f0','#fee0d2','#fcbba1','#fc9272','#fb6a4a','#ef3b2c','#cb181d','#a50f15','#67000d'] ,\n",
    "          ['#fcfbfd','#efedf5','#dadaeb','#bcbddc','#9e9ac8','#807dba','#6a51a3','#54278f','#3f007d'] ,\n",
    "          ['#f7fcfd','#e0ecf4','#bfd3e6','#9ebcda','#8c96c6','#8c6bb1','#88419d','#810f7c','#4d004b'] ,\n",
    "          ['#fff7fb','#ece7f2','#d0d1e6','#a6bddb','#74a9cf','#3690c0','#0570b0','#045a8d','#023858'] ,\n",
    "          ['#ffffe5','#f7fcb9','#d9f0a3','#addd8e','#78c679','#41ab5d','#238443','#006837','#004529'] ,\n",
    "          ['#ffffff','#f0f0f0','#d9d9d9','#bdbdbd','#969696','#737373','#525252','#252525','#000000'] ,\n",
    "          ['#fff5eb','#fee6ce','#fdd0a2','#fdae6b','#fd8d3c','#f16913','#d94801','#a63603','#7f2704'] ,\n",
    "          ['#ffffd9','#edf8b1','#c7e9b4','#7fcdbb','#41b6c4','#1d91c0','#225ea8','#253494','#081d58'] ,\n",
    "          ['#f7fbff','#deebf7','#c6dbef','#9ecae1','#6baed6','#4292c6','#2171b5','#08519c','#08306b'] ,\n",
    "          ['#fff7f3','#fde0dd','#fcc5c0','#fa9fb5','#f768a1','#dd3497','#ae017e','#7a0177','#49006a'] ,\n",
    "          ['#ffffe5','#fff7bc','#fee391','#fec44f','#fe9929','#ec7014','#cc4c02','#993404','#662506'] ,\n",
    "          ['#fff7fb','#ece2f0','#d0d1e6','#a6bddb','#67a9cf','#3690c0','#02818a','#016c59','#014636'] ]\n",
    "          \n",
    "\n",
    "for col in listes :\n",
    "    u[col] = u[col].str.replace(' ', '').astype(int)\n",
    "\n",
    "for col in candidats :\n",
    "    u[col] = u[col].str.replace(' ', '').astype(int)\n",
    "    prop_candidat = 'prop_' + col\n",
    "    u[prop_candidat] = u[col] / u['Nbre total de votants']"
   ]
  },
  {
   "cell_type": "code",
   "execution_count": null,
   "metadata": {
    "collapsed": false
   },
   "outputs": [],
   "source": [
    "def create_binning(data , variable , n_colors , index) :\n",
    "    data = data.reset_index()\n",
    "    bins = np.linspace(data[variable].min(), data[variable].max(), n_colors)\n",
    "    data['bin'] = np.digitize(data[variable], bins) - 1\n",
    "    out = data.set_index(index)\n",
    "    return out"
   ]
  },
  {
   "cell_type": "code",
   "execution_count": null,
   "metadata": {
    "collapsed": false
   },
   "outputs": [],
   "source": [
    "def temporaire_dept_mapping(data , variable , index , colormap):\n",
    "    n_colors = len(colormap)\n",
    "    binned_data = create_binning(data , variable , n_colors , index)\n",
    "    regions_names = []\n",
    "    regions_ID = []\n",
    "    xs = []\n",
    "    ys = []\n",
    "    values = []\n",
    "    cols = []\n",
    "    for i in carto_dept.keys() :\n",
    "        x = []\n",
    "        y = []\n",
    "        reg_sel = carto_dept[i]\n",
    "        name = reg_sel['name']\n",
    "        ID = reg_sel['id_zone']\n",
    "        x = reg_sel['x']\n",
    "        y = reg_sel['y']\n",
    "        if (pd.isnull(name) == False) & (name != 590) & (name not in ['TAHOUA' , 'TAGAZAR'])  :\n",
    "            val = binned_data[variable][name] * 100\n",
    "            col = colormap[binned_data['bin'][name].astype(int)]\n",
    "            values.append(val)\n",
    "            regions_names.append(name)\n",
    "            regions_ID.append(ID)\n",
    "            xs.append(x)\n",
    "            ys.append(y)\n",
    "            cols.append(col)\n",
    "            \n",
    "    map_source = ColumnDataSource(\n",
    "        data = dict(\n",
    "            x=xs,\n",
    "            y=ys,\n",
    "            ID=regions_ID,\n",
    "            name=regions_names ,\n",
    "            value = values ,\n",
    "            colors = cols\n",
    "        )\n",
    "    )\n",
    "    return map_source "
   ]
  },
  {
   "cell_type": "code",
   "execution_count": null,
   "metadata": {
    "collapsed": false
   },
   "outputs": [],
   "source": [
    "from bokeh.plotting import figure, gridplot , output_notebook, show , output_file\n",
    "from bokeh.palettes import YlOrRd9\n",
    "YlOrRd9.reverse()\n",
    "\n",
    "output_notebook()\n",
    "\n",
    "graphs = {} \n",
    "\n",
    "for i in range(len(candidats)) :\n",
    "    candidat = candidats[i]\n",
    "    \n",
    "    col1 = YlOrRd9\n",
    "    \n",
    "    prop_candidat = 'prop_' + candidat\n",
    "    source_rate = temporaire_dept_mapping(u , prop_candidat ,  'Département' , col1)\n",
    "\n",
    "\n",
    "    p = figure(plot_width=300, plot_height=300,\n",
    "                title=candidat , title_text_font_size='8pt')\n",
    "    p.patches('x', 'y',\n",
    "                fill_color='colors' ,\n",
    "                line_color=\"grey\", line_width=0.5,\n",
    "                source=source_rate)\n",
    "        \n",
    "    \n",
    "    hover = p.select(dict(type=HoverTool))\n",
    "    hover.point_policy = \"follow_mouse\"\n",
    "    hover.tooltips = OrderedDict([\n",
    "            (\"Nom\", \"@name\"),\n",
    "            (\"% des suffrages reçus\", \"@value %\")  \n",
    "        ])    \n",
    "    graphs[candidat] = p\n",
    "\n",
    "    \n",
    "    \n",
    "dictlist = []\n",
    "liste_complete = []\n",
    "i = 0\n",
    "for key in graphs.keys():\n",
    "    i = i+1\n",
    "    dictlist.append(graphs[key])\n",
    "    if i == 3 :\n",
    "        liste_complete.append(dictlist)\n",
    "        dictlist = []\n",
    "        i = 0\n",
    "    \n",
    "\n",
    "p_fin = gridplot(liste_complete, toolbar_location=None)\n",
    "show(p_fin)"
   ]
  },
  {
   "cell_type": "code",
   "execution_count": null,
   "metadata": {
    "collapsed": false
   },
   "outputs": [],
   "source": [
    "# Age Median\n",
    "region_date = data_electeurs['age'].groupby(data_electeurs['ID_REGION']).median()\n",
    "num_colors = 5\n",
    "bins = np.linspace(region_date.min(), region_date.max(), num_colors)\n",
    "region_date = region_date.reset_index()\n",
    "region_date['bin'] = np.digitize(region_date['age'], bins) - 1\n",
    "region_date.sort_values('bin', ascending=False)\n",
    "region_date = region_date.set_index('ID_REGION')"
   ]
  },
  {
   "cell_type": "code",
   "execution_count": null,
   "metadata": {
    "collapsed": false
   },
   "outputs": [],
   "source": [
    "colors = [\"#edf8fb\",\"#b2e2e2\",\"#66c2a4\",'#2ca25f',\"#006d2c\"]\n",
    "regions_names = []\n",
    "regions_ID = []\n",
    "xs = []\n",
    "ys = []\n",
    "values = []\n",
    "cols = []\n",
    "for i in carto_reg.keys() :\n",
    "    x = []\n",
    "    y = []\n",
    "    reg_sel = carto_reg[i]\n",
    "    name = reg_sel['name']\n",
    "    ID = reg_sel['id_zone']\n",
    "    x = reg_sel['x']\n",
    "    y = reg_sel['y']\n",
    "\n",
    "    if (pd.isnull(ID) == False) & (ID != 590) :\n",
    "        val = region_date['age'][ID]\n",
    "        col = colors[region_date['bin'][ID].astype(int)]\n",
    "        values.append(val)\n",
    "        regions_names.append(name)\n",
    "        regions_ID.append(ID)\n",
    "        xs.append(x)\n",
    "        ys.append(y)\n",
    "        cols.append(col)\n",
    "    \n",
    "source_rate = ColumnDataSource(\n",
    "    data = dict(\n",
    "        x=xs,\n",
    "        y=ys,\n",
    "        ID=regions_ID,\n",
    "        name=regions_names ,\n",
    "        value = values ,\n",
    "        colors = cols\n",
    "    )\n",
    ")"
   ]
  },
  {
   "cell_type": "code",
   "execution_count": null,
   "metadata": {
    "collapsed": false
   },
   "outputs": [],
   "source": [
    "output_notebook()\n",
    "\n",
    "TOOLS=\"pan,wheel_zoom,reset,hover\"\n",
    "\n",
    "p = figure(plot_width=700, plot_height=700,\n",
    "           tools=TOOLS, title=\"Age Médian\")\n",
    "\n",
    "p.patches('x', 'y',\n",
    "    fill_color='colors' ,\n",
    "    line_color=\"grey\", line_width=0.5,\n",
    "    source=source_rate)\n",
    "\n",
    "hover = p.select(dict(type=HoverTool))\n",
    "hover.point_policy = \"follow_mouse\"\n",
    "hover.tooltips = OrderedDict([\n",
    "    (\"Nom\", \"@name\"),\n",
    "    (\"Age Médian\", \"@value\")   \n",
    "])\n",
    "\n",
    "show(p)"
   ]
  },
  {
   "cell_type": "markdown",
   "metadata": {
    "collapsed": false
   },
   "source": [
    "chrome://flags/#touch-events\n",
    "\n",
    "desactiver"
   ]
  },
  {
   "cell_type": "code",
   "execution_count": null,
   "metadata": {
    "collapsed": false
   },
   "outputs": [],
   "source": [
    "month = data['date_de_naissance'].apply(lambda x: x.month)\n",
    "day = data['date_de_naissance'].apply(lambda x: x.day)\n",
    "year = data['date_de_naissance'].apply(lambda x: x.year)"
   ]
  },
  {
   "cell_type": "code",
   "execution_count": null,
   "metadata": {
    "collapsed": false
   },
   "outputs": [],
   "source": [
    "date_full = (month == 1) & (day == 1)"
   ]
  },
  {
   "cell_type": "code",
   "execution_count": null,
   "metadata": {
    "collapsed": false
   },
   "outputs": [],
   "source": [
    "data['jour_naissance'] = day\n",
    "data['mois_naissance'] = month\n",
    "data['annee_naissance'] = year"
   ]
  },
  {
   "cell_type": "code",
   "execution_count": null,
   "metadata": {
    "collapsed": true
   },
   "outputs": [],
   "source": [
    "data['date_naissance_exacte'] = (data['jour_naissance'] != 1) & (data['mois_naissance'] != 1)"
   ]
  },
  {
   "cell_type": "code",
   "execution_count": null,
   "metadata": {
    "collapsed": true
   },
   "outputs": [],
   "source": [
    "def proportion_date_naissance(data) :\n",
    "    out = sum(data['date_naissance_exacte']) / len(data)\n",
    "    return out"
   ]
  },
  {
   "cell_type": "code",
   "execution_count": null,
   "metadata": {
    "collapsed": false
   },
   "outputs": [],
   "source": [
    "data_nn = data[~(pd.isnull(data['date_de_naissance']))]\n",
    "d = data_nn.groupby(['annee_naissance','NOM_REGION']).apply(proportion_date_naissance)"
   ]
  },
  {
   "cell_type": "code",
   "execution_count": null,
   "metadata": {
    "collapsed": false
   },
   "outputs": [],
   "source": [
    "import matplotlib.pyplot as plt\n",
    "from matplotlib import cm\n",
    "from matplotlib.ticker import FormatStrFormatter\n",
    "import numpy as np\n",
    "\n",
    "plt.xkcd()\n",
    "d.unstack('NOM_REGION').plot(figsize=(15, 10) , colormap = 'Set1')"
   ]
  },
  {
   "cell_type": "code",
   "execution_count": null,
   "metadata": {
    "collapsed": true
   },
   "outputs": [],
   "source": [
    "#Age Distributions : ser.plot(kind='kde')\n",
    "# Dist of voters by bureau"
   ]
  }
 ],
 "metadata": {
  "kernelspec": {
   "display_name": "Python 3",
   "language": "python",
   "name": "python3"
  },
  "language_info": {
   "codemirror_mode": {
    "name": "ipython",
    "version": 3
   },
   "file_extension": ".py",
   "mimetype": "text/x-python",
   "name": "python",
   "nbconvert_exporter": "python",
   "pygments_lexer": "ipython3",
   "version": "3.5.1"
  }
 },
 "nbformat": 4,
 "nbformat_minor": 0
}
