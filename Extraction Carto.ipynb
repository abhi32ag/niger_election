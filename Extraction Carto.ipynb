{
 "cells": [
  {
   "cell_type": "code",
   "execution_count": 8,
   "metadata": {
    "collapsed": false
   },
   "outputs": [],
   "source": [
    "import requests\n",
    "import os as os\n",
    "import json\n",
    "import pandas as pd\n",
    "\n",
    "os.chdir('c://users/grlurton/Google Drive/elections_niger')"
   ]
  },
  {
   "cell_type": "code",
   "execution_count": 6,
   "metadata": {
    "collapsed": false
   },
   "outputs": [],
   "source": [
    "dep_url = 'http://www.ceni-niger.org/ceniProject/jsmap/maps/dept-all.js'\n",
    "dep_head = 'Highcharts.maps[\"dept-all\"]='\n",
    "\n",
    "r = requests.get(dep_url)\n",
    "r = r.text.replace(dep_head, '').replace('\\r\\n' , '').replace('/*' , '').replace('*/' , '')\n",
    "\n",
    "dept_map = json.loads(r)"
   ]
  },
  {
   "cell_type": "code",
   "execution_count": 7,
   "metadata": {
    "collapsed": true
   },
   "outputs": [],
   "source": [
    "reg_url ='http://www.ceni-niger.org/ceniProject/jsmap/maps/reg_all.js'\n",
    "reg_head = 'Highcharts.maps[\"reg-all\"] ='\n",
    "\n",
    "r = requests.get(reg_url)\n",
    "r = r.text.replace(reg_head, '').replace('\\r\\n' , '').replace('/*' , '').replace('*/' , '')\n",
    "\n",
    "reg_map = json.loads(r)"
   ]
  },
  {
   "cell_type": "code",
   "execution_count": 11,
   "metadata": {
    "collapsed": false
   },
   "outputs": [],
   "source": [
    "with open('dept_map.txt', 'w') as outfile:\n",
    "    json.dump(dept_map, outfile)\n",
    "    \n",
    "with open('reg_map.txt', 'w') as outfile:\n",
    "    json.dump(reg_map, outfile)"
   ]
  }
 ],
 "metadata": {
  "kernelspec": {
   "display_name": "Python 3",
   "language": "python",
   "name": "python3"
  },
  "language_info": {
   "codemirror_mode": {
    "name": "ipython",
    "version": 3
   },
   "file_extension": ".py",
   "mimetype": "text/x-python",
   "name": "python",
   "nbconvert_exporter": "python",
   "pygments_lexer": "ipython3",
   "version": "3.5.1"
  }
 },
 "nbformat": 4,
 "nbformat_minor": 0
}
