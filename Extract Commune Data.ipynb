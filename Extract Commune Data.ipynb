{
 "cells": [
  {
   "cell_type": "code",
   "execution_count": 1,
   "metadata": {
    "collapsed": false
   },
   "outputs": [],
   "source": [
    "import fiona\n",
    "import pandas as pd\n",
    "import os as os\n",
    "import json\n",
    "\n",
    "os.chdir('../../Google Drive/elections_niger')"
   ]
  },
  {
   "cell_type": "code",
   "execution_count": 2,
   "metadata": {
    "collapsed": false
   },
   "outputs": [],
   "source": [
    "communes = fiona.open('data/shapefile/nigcom.shp' , 'r')"
   ]
  },
  {
   "cell_type": "code",
   "execution_count": 3,
   "metadata": {
    "collapsed": false
   },
   "outputs": [],
   "source": [
    "communes_gps = {}\n",
    "\n",
    "for i in range(len(communes)):\n",
    "    coordinates = communes[i]['geometry']['coordinates'][0]\n",
    "    x = []\n",
    "    y = []\n",
    "    ids = communes[i]['properties']['ID_']\n",
    "    noms = communes[i]['properties']['NAME2_']\n",
    "    place = communes[i]['id']\n",
    "    region = communes[i]['properties']['REGION']\n",
    "    for j in range(len(coordinates)):\n",
    "        x = x + [coordinates[j][0]]\n",
    "        y = y + [coordinates[j][1]]\n",
    "        coords = {'x':x , 'y':y}\n",
    "    communes_gps[str(place)] = {'nom':noms , 'ID':ids , 'region':region , 'coordinates':coords}\n",
    "\n",
    "with open(\"communes_gps.json\", \"w\") as f:\n",
    "    f.write(json.dumps(communes_gps))"
   ]
  },
  {
   "cell_type": "code",
   "execution_count": 6,
   "metadata": {
    "collapsed": false
   },
   "outputs": [],
   "source": [
    "communes_ceni = pd.read_csv('data/Niger_Communes.csv')\n",
    "departements_ceni = pd.read_csv('data/Niger_Departements.csv' , encoding = \"ISO-8859-1\")\n",
    "regions_ceni = pd.read_csv('data/Niger_Regions.csv')"
   ]
  },
  {
   "cell_type": "code",
   "execution_count": null,
   "metadata": {
    "collapsed": false
   },
   "outputs": [],
   "source": [
    "full_ceni = pd.merge(departements_ceni , communes_ceni , on = 'ID_DEPART' , how = 'right')"
   ]
  },
  {
   "cell_type": "code",
   "execution_count": null,
   "metadata": {
    "collapsed": false
   },
   "outputs": [],
   "source": [
    "full_ceni = pd.merge(regions_ceni , full_ceni , on = 'ID_REGION' , how = 'right')"
   ]
  },
  {
   "cell_type": "code",
   "execution_count": null,
   "metadata": {
    "collapsed": false
   },
   "outputs": [],
   "source": [
    "simple_matching = pd.merge(full_ceni , communes_source , left_on = 'NOM_COMMUNE' , right_on = 'noms' , how = 'inner')"
   ]
  },
  {
   "cell_type": "code",
   "execution_count": null,
   "metadata": {
    "collapsed": true
   },
   "outputs": [],
   "source": []
  }
 ],
 "metadata": {
  "kernelspec": {
   "display_name": "Python 3",
   "language": "python",
   "name": "python3"
  },
  "language_info": {
   "codemirror_mode": {
    "name": "ipython",
    "version": 3
   },
   "file_extension": ".py",
   "mimetype": "text/x-python",
   "name": "python",
   "nbconvert_exporter": "python",
   "pygments_lexer": "ipython3",
   "version": "3.5.1"
  }
 },
 "nbformat": 4,
 "nbformat_minor": 0
}
