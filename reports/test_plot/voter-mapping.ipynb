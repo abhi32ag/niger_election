{
 "cells": [
  {
   "cell_type": "code",
   "execution_count": 13,
   "metadata": {
    "collapsed": false
   },
   "outputs": [],
   "source": [
    "import pandas as pd\n",
    "from matplotlib import pyplot as plt\n",
    "%matplotlib inline"
   ]
  },
  {
   "cell_type": "code",
   "execution_count": 14,
   "metadata": {
    "collapsed": false
   },
   "outputs": [],
   "source": [
    "df = pd.read_csv('data_for_viz.csv')"
   ]
  },
  {
   "cell_type": "code",
   "execution_count": 15,
   "metadata": {
    "collapsed": false
   },
   "outputs": [
    {
     "data": {
      "text/html": [
       "<div>\n",
       "<table border=\"1\" class=\"dataframe\">\n",
       "  <thead>\n",
       "    <tr style=\"text-align: right;\">\n",
       "      <th></th>\n",
       "      <th>Unnamed: 0</th>\n",
       "      <th>locality</th>\n",
       "      <th>population</th>\n",
       "      <th>hommes</th>\n",
       "      <th>femmes</th>\n",
       "      <th>settlement_type</th>\n",
       "      <th>region</th>\n",
       "      <th>departement</th>\n",
       "      <th>commune</th>\n",
       "      <th>longitude</th>\n",
       "      <th>latitude</th>\n",
       "      <th>commune_ID</th>\n",
       "      <th>departement_ID</th>\n",
       "      <th>region_ID</th>\n",
       "      <th>GPS_ID</th>\n",
       "      <th>renaloc_ID</th>\n",
       "      <th>bureau_ID</th>\n",
       "      <th>bureau</th>\n",
       "      <th>N_voters</th>\n",
       "    </tr>\n",
       "  </thead>\n",
       "  <tbody>\n",
       "    <tr>\n",
       "      <th>0</th>\n",
       "      <td>0</td>\n",
       "      <td>ABALAMA</td>\n",
       "      <td>704</td>\n",
       "      <td>360</td>\n",
       "      <td>344</td>\n",
       "      <td>VA</td>\n",
       "      <td>AGADEZ</td>\n",
       "      <td>ADERBISSINAT</td>\n",
       "      <td>ADERBISSINAT</td>\n",
       "      <td>8.067222</td>\n",
       "      <td>16.310000</td>\n",
       "      <td>10101</td>\n",
       "      <td>101</td>\n",
       "      <td>1</td>\n",
       "      <td>10301</td>\n",
       "      <td>2</td>\n",
       "      <td>10101055</td>\n",
       "      <td>ABALAMA1</td>\n",
       "      <td>300</td>\n",
       "    </tr>\n",
       "    <tr>\n",
       "      <th>1</th>\n",
       "      <td>1</td>\n",
       "      <td>ABALAMA</td>\n",
       "      <td>704</td>\n",
       "      <td>360</td>\n",
       "      <td>344</td>\n",
       "      <td>VA</td>\n",
       "      <td>AGADEZ</td>\n",
       "      <td>ADERBISSINAT</td>\n",
       "      <td>ADERBISSINAT</td>\n",
       "      <td>8.067222</td>\n",
       "      <td>16.310000</td>\n",
       "      <td>10101</td>\n",
       "      <td>101</td>\n",
       "      <td>1</td>\n",
       "      <td>10301</td>\n",
       "      <td>2</td>\n",
       "      <td>10101085</td>\n",
       "      <td>ABALAMA2</td>\n",
       "      <td>295</td>\n",
       "    </tr>\n",
       "    <tr>\n",
       "      <th>2</th>\n",
       "      <td>2</td>\n",
       "      <td>AKOUEL (AKOYAL)</td>\n",
       "      <td>129</td>\n",
       "      <td>78</td>\n",
       "      <td>51</td>\n",
       "      <td>VA</td>\n",
       "      <td>AGADEZ</td>\n",
       "      <td>ADERBISSINAT</td>\n",
       "      <td>ADERBISSINAT</td>\n",
       "      <td>8.085556</td>\n",
       "      <td>15.653056</td>\n",
       "      <td>10101</td>\n",
       "      <td>101</td>\n",
       "      <td>1</td>\n",
       "      <td>10301</td>\n",
       "      <td>14</td>\n",
       "      <td>10101054</td>\n",
       "      <td>AKOUAL</td>\n",
       "      <td>182</td>\n",
       "    </tr>\n",
       "    <tr>\n",
       "      <th>3</th>\n",
       "      <td>3</td>\n",
       "      <td>AMAZEGRI</td>\n",
       "      <td>191</td>\n",
       "      <td>104</td>\n",
       "      <td>87</td>\n",
       "      <td>PE</td>\n",
       "      <td>AGADEZ</td>\n",
       "      <td>ADERBISSINAT</td>\n",
       "      <td>ADERBISSINAT</td>\n",
       "      <td>7.786944</td>\n",
       "      <td>16.406944</td>\n",
       "      <td>10101</td>\n",
       "      <td>101</td>\n",
       "      <td>1</td>\n",
       "      <td>10301</td>\n",
       "      <td>17</td>\n",
       "      <td>10101026</td>\n",
       "      <td>AMAZEGRI</td>\n",
       "      <td>222</td>\n",
       "    </tr>\n",
       "    <tr>\n",
       "      <th>4</th>\n",
       "      <td>4</td>\n",
       "      <td>ANIALE (ERWA)</td>\n",
       "      <td>262</td>\n",
       "      <td>142</td>\n",
       "      <td>120</td>\n",
       "      <td>VA</td>\n",
       "      <td>AGADEZ</td>\n",
       "      <td>ADERBISSINAT</td>\n",
       "      <td>ADERBISSINAT</td>\n",
       "      <td>7.894167</td>\n",
       "      <td>16.231111</td>\n",
       "      <td>10101</td>\n",
       "      <td>101</td>\n",
       "      <td>1</td>\n",
       "      <td>10301</td>\n",
       "      <td>18</td>\n",
       "      <td>10101057</td>\n",
       "      <td>ANIELE</td>\n",
       "      <td>159</td>\n",
       "    </tr>\n",
       "  </tbody>\n",
       "</table>\n",
       "</div>"
      ],
      "text/plain": [
       "   Unnamed: 0         locality  population  hommes  femmes settlement_type  \\\n",
       "0           0          ABALAMA         704     360     344              VA   \n",
       "1           1          ABALAMA         704     360     344              VA   \n",
       "2           2  AKOUEL (AKOYAL)         129      78      51              VA   \n",
       "3           3         AMAZEGRI         191     104      87              PE   \n",
       "4           4    ANIALE (ERWA)         262     142     120              VA   \n",
       "\n",
       "   region   departement       commune  longitude   latitude  commune_ID  \\\n",
       "0  AGADEZ  ADERBISSINAT  ADERBISSINAT   8.067222  16.310000       10101   \n",
       "1  AGADEZ  ADERBISSINAT  ADERBISSINAT   8.067222  16.310000       10101   \n",
       "2  AGADEZ  ADERBISSINAT  ADERBISSINAT   8.085556  15.653056       10101   \n",
       "3  AGADEZ  ADERBISSINAT  ADERBISSINAT   7.786944  16.406944       10101   \n",
       "4  AGADEZ  ADERBISSINAT  ADERBISSINAT   7.894167  16.231111       10101   \n",
       "\n",
       "   departement_ID  region_ID  GPS_ID  renaloc_ID  bureau_ID    bureau  \\\n",
       "0             101          1   10301           2   10101055  ABALAMA1   \n",
       "1             101          1   10301           2   10101085  ABALAMA2   \n",
       "2             101          1   10301          14   10101054    AKOUAL   \n",
       "3             101          1   10301          17   10101026  AMAZEGRI   \n",
       "4             101          1   10301          18   10101057    ANIELE   \n",
       "\n",
       "   N_voters  \n",
       "0       300  \n",
       "1       295  \n",
       "2       182  \n",
       "3       222  \n",
       "4       159  "
      ]
     },
     "execution_count": 15,
     "metadata": {},
     "output_type": "execute_result"
    }
   ],
   "source": [
    "df.head()"
   ]
  },
  {
   "cell_type": "code",
   "execution_count": 16,
   "metadata": {
    "collapsed": false
   },
   "outputs": [],
   "source": [
    "x = df['longitude']\n",
    "y = df['latitude']"
   ]
  },
  {
   "cell_type": "code",
   "execution_count": 17,
   "metadata": {
    "collapsed": false
   },
   "outputs": [
    {
     "data": {
      "text/plain": [
       "<matplotlib.collections.PathCollection at 0x10a10fa90>"
      ]
     },
     "execution_count": 17,
     "metadata": {},
     "output_type": "execute_result"
    },
    {
     "data": {
      "image/png": "[encoded data removed]",
      "text/plain": [
       "<matplotlib.figure.Figure at 0x10a787cf8>"
      ]
     },
     "metadata": {},
     "output_type": "display_data"
    }
   ],
   "source": [
    "plt.scatter(x,y)"
   ]
  },
  {
   "cell_type": "code",
   "execution_count": 18,
   "metadata": {
    "collapsed": true
   },
   "outputs": [],
   "source": [
    "col_names = ['population','latitude','longitude','locality']\n",
    "new_df = df[col_names]"
   ]
  },
  {
   "cell_type": "code",
   "execution_count": 19,
   "metadata": {
    "collapsed": false
   },
   "outputs": [
    {
     "data": {
      "text/html": [
       "<div>\n",
       "<table border=\"1\" class=\"dataframe\">\n",
       "  <thead>\n",
       "    <tr style=\"text-align: right;\">\n",
       "      <th></th>\n",
       "      <th>population</th>\n",
       "      <th>latitude</th>\n",
       "      <th>longitude</th>\n",
       "      <th>locality</th>\n",
       "    </tr>\n",
       "  </thead>\n",
       "  <tbody>\n",
       "    <tr>\n",
       "      <th>0</th>\n",
       "      <td>704</td>\n",
       "      <td>16.310000</td>\n",
       "      <td>8.067222</td>\n",
       "      <td>ABALAMA</td>\n",
       "    </tr>\n",
       "    <tr>\n",
       "      <th>1</th>\n",
       "      <td>704</td>\n",
       "      <td>16.310000</td>\n",
       "      <td>8.067222</td>\n",
       "      <td>ABALAMA</td>\n",
       "    </tr>\n",
       "    <tr>\n",
       "      <th>2</th>\n",
       "      <td>129</td>\n",
       "      <td>15.653056</td>\n",
       "      <td>8.085556</td>\n",
       "      <td>AKOUEL (AKOYAL)</td>\n",
       "    </tr>\n",
       "    <tr>\n",
       "      <th>3</th>\n",
       "      <td>191</td>\n",
       "      <td>16.406944</td>\n",
       "      <td>7.786944</td>\n",
       "      <td>AMAZEGRI</td>\n",
       "    </tr>\n",
       "    <tr>\n",
       "      <th>4</th>\n",
       "      <td>262</td>\n",
       "      <td>16.231111</td>\n",
       "      <td>7.894167</td>\n",
       "      <td>ANIALE (ERWA)</td>\n",
       "    </tr>\n",
       "  </tbody>\n",
       "</table>\n",
       "</div>"
      ],
      "text/plain": [
       "   population   latitude  longitude         locality\n",
       "0         704  16.310000   8.067222          ABALAMA\n",
       "1         704  16.310000   8.067222          ABALAMA\n",
       "2         129  15.653056   8.085556  AKOUEL (AKOYAL)\n",
       "3         191  16.406944   7.786944         AMAZEGRI\n",
       "4         262  16.231111   7.894167    ANIALE (ERWA)"
      ]
     },
     "execution_count": 19,
     "metadata": {},
     "output_type": "execute_result"
    }
   ],
   "source": [
    "new_df.head()"
   ]
  },
  {
   "cell_type": "code",
   "execution_count": 20,
   "metadata": {
    "collapsed": true
   },
   "outputs": [],
   "source": [
    "df_clean = new_df.dropna()"
   ]
  },
  {
   "cell_type": "code",
   "execution_count": 21,
   "metadata": {
    "collapsed": false
   },
   "outputs": [],
   "source": [
    "json_data = df_clean.to_json(orient = 'records')"
   ]
  },
  {
   "cell_type": "code",
   "execution_count": 23,
   "metadata": {
    "collapsed": false
   },
   "outputs": [],
   "source": [
    "import json\n",
    "with open('data.json', 'w') as outfile:\n",
    "    json.dump(json_data, outfile)"
   ]
  },
  {
   "cell_type": "code",
   "execution_count": null,
   "metadata": {
    "collapsed": true
   },
   "outputs": [],
   "source": []
  }
 ],
 "metadata": {
  "kernelspec": {
   "display_name": "Python 3",
   "language": "python",
   "name": "python3"
  },
  "language_info": {
   "codemirror_mode": {
    "name": "ipython",
    "version": 3
   },
   "file_extension": ".py",
   "mimetype": "text/x-python",
   "name": "python",
   "nbconvert_exporter": "python",
   "pygments_lexer": "ipython3",
   "version": "3.5.1"
  }
 },
 "nbformat": 4,
 "nbformat_minor": 0
}
